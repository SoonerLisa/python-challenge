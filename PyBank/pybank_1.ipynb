{
 "cells": [
  {
   "cell_type": "code",
   "execution_count": 83,
   "id": "11b2ad53-af35-4c92-a027-d98a2a11f806",
   "metadata": {},
   "outputs": [
    {
     "name": "stdout",
     "output_type": "stream",
     "text": [
      "Index(['Date', 'Profit/Losses'], dtype='object')\n"
     ]
    }
   ],
   "source": [
    "#PyBank Financial Analysis\n",
    "\n",
    "import pandas as pd\n",
    "import csv\n",
    "import os\n",
    "\n",
    "csv_path = os.path.join (r'C:\\Users\\soone\\python-challenge\\PyBank\\Resources', 'budget_data.csv')\n",
    "df = pd.read_csv(csv_path)\n",
    "\n",
    "print(df.columns)"
   ]
  },
  {
   "cell_type": "code",
   "execution_count": 84,
   "id": "fab0eba1-929d-4f2f-a702-a23c0571f592",
   "metadata": {},
   "outputs": [
    {
     "name": "stdout",
     "output_type": "stream",
     "text": [
      "Total Months: 86\n"
     ]
    }
   ],
   "source": [
    "total_months = len(df) - 1 + 1\n",
    "\n",
    "print(f\"Total Months: {total_months}\")"
   ]
  },
  {
   "cell_type": "code",
   "execution_count": 85,
   "id": "2a76a827-2c4d-4de5-990c-75cc65230a80",
   "metadata": {},
   "outputs": [
    {
     "name": "stdout",
     "output_type": "stream",
     "text": [
      "Total: $22564198\n"
     ]
    }
   ],
   "source": [
    "net_total = df['Profit/Losses'].sum()\n",
    "\n",
    "print(f\"Total: ${net_total}\")"
   ]
  },
  {
   "cell_type": "code",
   "execution_count": 86,
   "id": "05ddadf0-fd15-4b3c-a93d-2897add35387",
   "metadata": {},
   "outputs": [
    {
     "name": "stdout",
     "output_type": "stream",
     "text": [
      "      Date  Profit/Losses   change\n",
      "0   Jan-10        1088983        0\n",
      "1   Feb-10        -354534 -1443517\n",
      "2   Mar-10         276622   631156\n",
      "3   Apr-10        -728133 -1004755\n",
      "4   May-10         852993  1581126\n",
      "..     ...            ...      ...\n",
      "81  Oct-16        -729004 -1627245\n",
      "82  Nov-16        -112209   616795\n",
      "83  Dec-16         516313   628522\n",
      "84  Jan-17         607208    90895\n",
      "85  Feb-17         382539  -224669\n",
      "\n",
      "[86 rows x 3 columns]\n"
     ]
    }
   ],
   "source": [
    "df['change'] = df['Profit/Losses'].diff()\n",
    "df['change'] = df['change'].fillna(0)\n",
    "df['change'] = df['change'].astype(int)\n",
    "\n",
    "print(df)"
   ]
  },
  {
   "cell_type": "code",
   "execution_count": 87,
   "id": "c44f8f89",
   "metadata": {},
   "outputs": [
    {
     "name": "stdout",
     "output_type": "stream",
     "text": [
      "Average Change: $-8214.47\n"
     ]
    }
   ],
   "source": [
    "#The changes in \"Profit/Losses\" over the entire period (previous cell)...\n",
    "#now the average over the entire period\n",
    "\n",
    "average_change = df['change'].mean()\n",
    "\n",
    "#print(average_change)\n",
    "#now round\n",
    "rounded_average_change = round(average_change, 2)\n",
    "print(f\"Average Change: ${rounded_average_change}\")"
   ]
  },
  {
   "cell_type": "code",
   "execution_count": 88,
   "id": "8addf6ba-b064-4785-9ce6-9c88b7685d89",
   "metadata": {},
   "outputs": [],
   "source": [
    "#print(f\"Total Changes: {net_total}\")\n",
    "#print(f\"Greatest Increase in Profits: {change}\")\n",
    "#print(f\"Greatest Decrease in Profits: {change}\")"
   ]
  },
  {
   "cell_type": "code",
   "execution_count": 89,
   "id": "9699d79a-ab24-4770-9395-a981bbeba219",
   "metadata": {},
   "outputs": [
    {
     "name": "stdout",
     "output_type": "stream",
     "text": [
      "0\n"
     ]
    }
   ],
   "source": [
    "missing_values = df['Profit/Losses'].isnull().sum()\n",
    "print (missing_values)"
   ]
  },
  {
   "cell_type": "code",
   "execution_count": 90,
   "id": "42702098-5dc2-42ea-a058-383d18044fbd",
   "metadata": {},
   "outputs": [],
   "source": [
    "#total_changes = df['change'].sum()\n",
    "#print(df)"
   ]
  },
  {
   "cell_type": "code",
   "execution_count": 91,
   "id": "bb0bb0f6",
   "metadata": {},
   "outputs": [
    {
     "name": "stdout",
     "output_type": "stream",
     "text": [
      "Average Change: $-8214.47\n"
     ]
    }
   ],
   "source": [
    "#The changes in \"Profit/Losses\" over the entire period (previous cell)...\n",
    "#now the average over the entire period\n",
    "\n",
    "average_change = df['change'].mean()\n",
    "\n",
    "#print(average_change)\n",
    "#now round\n",
    "rounded_average_change = round(average_change, 2)\n",
    "print(f\"Average Change: ${rounded_average_change}\")"
   ]
  },
  {
   "cell_type": "code",
   "execution_count": 92,
   "id": "6789cdd6-eae3-41a5-96da-dbbde65f98fc",
   "metadata": {},
   "outputs": [
    {
     "name": "stdout",
     "output_type": "stream",
     "text": [
      "Date              Aug-16\n",
      "Profit/Losses     951227\n",
      "change           1862002\n",
      "Name: 79, dtype: object\n",
      "Date               Feb-14\n",
      "Profit/Losses     -946748\n",
      "change           -1825558\n",
      "Name: 49, dtype: object\n"
     ]
    }
   ],
   "source": [
    "greatest_increase_row = df.loc[df['change'].idxmax()]\n",
    "greatest_decrease_row = df.loc[df['change'].idxmin()]\n",
    "print(greatest_increase_row)\n",
    "print(greatest_decrease_row)"
   ]
  },
  {
   "cell_type": "code",
   "execution_count": 93,
   "id": "949c563c",
   "metadata": {},
   "outputs": [
    {
     "name": "stdout",
     "output_type": "stream",
     "text": [
      "Greatest Increase in Profits: Aug-16 $1862002\n",
      "Greatest Decrease in Profits: Feb-14 $-1825558\n"
     ]
    }
   ],
   "source": [
    "greatest_increase_row = df.loc[df['change'].idxmax()]\n",
    "greatest_decrease_row = df.loc[df['change'].idxmin()]\n",
    "print(f\"Greatest Increase in Profits: {greatest_increase_row['Date']} ${greatest_increase_row['change']}\")\n",
    "print(f\"Greatest Decrease in Profits: {greatest_decrease_row['Date']} ${greatest_decrease_row['change']}\")"
   ]
  },
  {
   "cell_type": "code",
   "execution_count": 94,
   "id": "1ef7de62-52c9-44e8-8b6b-a7f0d8288be1",
   "metadata": {},
   "outputs": [
    {
     "name": "stdout",
     "output_type": "stream",
     "text": [
      "Financial Analysis\n",
      "----------------------------\n",
      "Total Months: 86\n",
      "Total: $22564198\n",
      "Average Change: $-8214.47\n",
      "Greatest Increase in Profits: Aug-16 $1862002\n",
      "Greatest Decrease in Profits: Feb-14 $-1825558\n"
     ]
    }
   ],
   "source": [
    "print(f\"Financial Analysis\")\n",
    "print(f\"----------------------------\")\n",
    "print(f\"Total Months: {total_months}\")\n",
    "print(f\"Total: ${net_total}\")\n",
    "print(f\"Average Change: ${rounded_average_change}\")\n",
    "print(f\"Greatest Increase in Profits: {greatest_increase_row['Date']} ${greatest_increase_row['change']}\")\n",
    "print(f\"Greatest Decrease in Profits: {greatest_decrease_row['Date']} ${greatest_decrease_row['change']}\")\n",
    "\n"
   ]
  },
  {
   "cell_type": "code",
   "execution_count": 95,
   "id": "26ee07ff-bf56-4b55-911f-7a201dcb1bd4",
   "metadata": {},
   "outputs": [],
   "source": [
    "# Open a text file in write mode (text file only) use this block or the next for terminal and file output\n",
    "with open('pybank_analysis_results.txt', 'w') as file:\n",
    "    # Write PyBank results\n",
    "    file.write(f\"PyBank Financial Analysis Results\\n\")\n",
    "    file.write(f\"Total Months: {total_months}\\n\")\n",
    "    file.write(f\"$Total: ${net_total}\\n\")\n",
    "    file.write(f\"Average Change: ${rounded_average_change}\\n\")\n",
    "    file.write(f\"Greatest Increase in Profits: {greatest_increase_row['Date']} ${greatest_increase_row['change']}\")\n",
    "    file.write(f\"Greatest Decrease in Profits: {greatest_decrease_row['Date']} ${greatest_decrease_row['change']}\")"
   ]
  },
  {
   "cell_type": "code",
   "execution_count": 97,
   "id": "05d2310d",
   "metadata": {},
   "outputs": [
    {
     "ename": "NameError",
     "evalue": "name 'candidates' is not defined",
     "output_type": "error",
     "traceback": [
      "\u001b[1;31m---------------------------------------------------------------------------\u001b[0m",
      "\u001b[1;31mNameError\u001b[0m                                 Traceback (most recent call last)",
      "Cell \u001b[1;32mIn[97], line 15\u001b[0m\n\u001b[0;32m      1\u001b[0m \u001b[38;5;66;03m# Prepare the results (results to txt file and terminal)\u001b[39;00m\n\u001b[0;32m      2\u001b[0m results \u001b[38;5;241m=\u001b[39m \u001b[38;5;124mf\u001b[39m\u001b[38;5;124m\"\"\"\u001b[39m\u001b[38;5;124mThe PyBank results are:\u001b[39m\n\u001b[0;32m      3\u001b[0m \u001b[38;5;124mPyBank Results\u001b[39m\n\u001b[0;32m      4\u001b[0m \u001b[38;5;124mTotal Months: \u001b[39m\u001b[38;5;132;01m{\u001b[39;00mtotal_months\u001b[38;5;132;01m}\u001b[39;00m\n\u001b[1;32m   (...)\u001b[0m\n\u001b[0;32m     12\u001b[0m \u001b[38;5;124mTotal Votes: \u001b[39m\u001b[38;5;132;01m{\u001b[39;00mnet_total\u001b[38;5;132;01m}\u001b[39;00m\n\u001b[0;32m     13\u001b[0m \u001b[38;5;124m\"\"\"\u001b[39m\n\u001b[1;32m---> 15\u001b[0m \u001b[38;5;28;01mfor\u001b[39;00m candidate, data \u001b[38;5;129;01min\u001b[39;00m \u001b[43mcandidates\u001b[49m\u001b[38;5;241m.\u001b[39mitems():\n\u001b[0;32m     16\u001b[0m     results \u001b[38;5;241m+\u001b[39m\u001b[38;5;241m=\u001b[39m \u001b[38;5;124mf\u001b[39m\u001b[38;5;124m\"\u001b[39m\u001b[38;5;132;01m{\u001b[39;00mcandidate\u001b[38;5;132;01m}\u001b[39;00m\u001b[38;5;124m: \u001b[39m\u001b[38;5;132;01m{\u001b[39;00mdata[\u001b[38;5;124m'\u001b[39m\u001b[38;5;124mvotes\u001b[39m\u001b[38;5;124m'\u001b[39m]\u001b[38;5;132;01m}\u001b[39;00m\u001b[38;5;124m votes (\u001b[39m\u001b[38;5;132;01m{\u001b[39;00mdata[\u001b[38;5;124m'\u001b[39m\u001b[38;5;124mpercent\u001b[39m\u001b[38;5;124m'\u001b[39m]\u001b[38;5;132;01m}\u001b[39;00m\u001b[38;5;124m%)\u001b[39m\u001b[38;5;130;01m\\n\u001b[39;00m\u001b[38;5;124m\"\u001b[39m\n\u001b[0;32m     17\u001b[0m results \u001b[38;5;241m+\u001b[39m\u001b[38;5;241m=\u001b[39m \u001b[38;5;124mf\u001b[39m\u001b[38;5;124m\"\u001b[39m\u001b[38;5;124mWinner: \u001b[39m\u001b[38;5;132;01m{\u001b[39;00mwinner\u001b[38;5;132;01m}\u001b[39;00m\u001b[38;5;130;01m\\n\u001b[39;00m\u001b[38;5;124m\"\u001b[39m\n",
      "\u001b[1;31mNameError\u001b[0m: name 'candidates' is not defined"
     ]
    }
   ],
   "source": [
    "# Prepare the results (results to txt file and terminal)\n",
    "results = f\"\"\"The PyBank results are:\n",
    "PyBank Results\n",
    "Total Months: {total_months}\n",
    "Total: ${net_total}\n",
    "Average Change: ${rounded_average_change}\n",
    "Greatest Increase: {greatest_increase_row['Date']} ${greatest_increase_row['change']}\")\n",
    "Greatest Decrease: {greatest_decrease_row['Date']} ${greatest_decrease_row['change']}\")\n",
    "#above for PyBank only --------------------------------------\n",
    "#------------------------------------------------------------\n",
    "\n",
    "# Prepare the results\n",
    "with open('pypoll_analysis_results.txt', 'w') as file:\n",
    "Pypoll Results\n",
    "#???Total Votes: {net_total}\n",
    "\"\"\"\n",
    "\n",
    "for candidate, data in candidate.items():\n",
    "    results += f\"{candidate}: {data['votes']} votes ({data['percent']}%)\\n\"\n",
    "results += f\"Winner: {winner}\\n\"\n",
    "\n",
    "# Print to the terminal\n",
    "print(results)\n",
    "\n",
    "# Export to a text file\n",
    "with open('results.txt', 'w') as file:\n",
    "    file.write(results)"
   ]
  },
  {
   "cell_type": "code",
   "execution_count": null,
   "id": "1468bfb7",
   "metadata": {},
   "outputs": [],
   "source": []
  }
 ],
 "metadata": {
  "kernelspec": {
   "display_name": "Python 3 (ipykernel)",
   "language": "python",
   "name": "python3"
  },
  "language_info": {
   "codemirror_mode": {
    "name": "ipython",
    "version": 3
   },
   "file_extension": ".py",
   "mimetype": "text/x-python",
   "name": "python",
   "nbconvert_exporter": "python",
   "pygments_lexer": "ipython3",
   "version": "3.10.14"
  }
 },
 "nbformat": 4,
 "nbformat_minor": 5
}
