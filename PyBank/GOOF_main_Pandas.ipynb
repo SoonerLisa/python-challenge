{
 "cells": [
  {
   "cell_type": "code",
   "execution_count": 2,
   "id": "11b2ad53-af35-4c92-a027-d98a2a11f806",
   "metadata": {},
   "outputs": [
    {
     "name": "stdout",
     "output_type": "stream",
     "text": [
      "Index(['Date', 'Profit/Losses'], dtype='object')\n"
     ]
    }
   ],
   "source": [
    "#PyBank Financial Analysis\n",
    "\n",
    "import pandas as pd\n",
    "import csv\n",
    "import os\n",
    "\n",
    "csv_path = os.path.join (r'C:\\Users\\soone\\python-challenge\\PyBank\\Resources', 'budget_data.csv')\n",
    "df = pd.read_csv(csv_path)\n",
    "\n",
    "print(df.columns)"
   ]
  },
  {
   "cell_type": "code",
   "execution_count": 3,
   "id": "fab0eba1-929d-4f2f-a702-a23c0571f592",
   "metadata": {},
   "outputs": [
    {
     "name": "stdout",
     "output_type": "stream",
     "text": [
      "Total Months: 86\n"
     ]
    }
   ],
   "source": [
    "total_months = len(df) - 1 + 1\n",
    "\n",
    "print(f\"Total Months: {total_months}\")"
   ]
  },
  {
   "cell_type": "code",
   "execution_count": 4,
   "id": "2a76a827-2c4d-4de5-990c-75cc65230a80",
   "metadata": {},
   "outputs": [
    {
     "name": "stdout",
     "output_type": "stream",
     "text": [
      "Total: $22564198\n"
     ]
    }
   ],
   "source": [
    "net_total = df['Profit/Losses'].sum()\n",
    "\n",
    "print(f\"Total: ${net_total}\")"
   ]
  },
  {
   "cell_type": "code",
   "execution_count": 5,
   "id": "e1b1f3b1",
   "metadata": {},
   "outputs": [
    {
     "name": "stdout",
     "output_type": "stream",
     "text": [
      "      Date  Profit/Losses\n",
      "0   Jan-10        1088983\n",
      "1   Feb-10        -354534\n",
      "2   Mar-10         276622\n",
      "3   Apr-10        -728133\n",
      "4   May-10         852993\n",
      "..     ...            ...\n",
      "81  Oct-16        -729004\n",
      "82  Nov-16        -112209\n",
      "83  Dec-16         516313\n",
      "84  Jan-17         607208\n",
      "85  Feb-17         382539\n",
      "\n",
      "[86 rows x 2 columns]\n"
     ]
    }
   ],
   "source": [
    "data = pd.read_csv(r'C:\\Users\\soone\\python-challenge\\PyBank\\Resources\\budget_data.csv')\n",
    "print(data)"
   ]
  },
  {
   "cell_type": "code",
   "execution_count": 6,
   "id": "05ddadf0-fd15-4b3c-a93d-2897add35387",
   "metadata": {},
   "outputs": [
    {
     "data": {
      "text/html": [
       "<div>\n",
       "<style scoped>\n",
       "    .dataframe tbody tr th:only-of-type {\n",
       "        vertical-align: middle;\n",
       "    }\n",
       "\n",
       "    .dataframe tbody tr th {\n",
       "        vertical-align: top;\n",
       "    }\n",
       "\n",
       "    .dataframe thead th {\n",
       "        text-align: right;\n",
       "    }\n",
       "</style>\n",
       "<table border=\"1\" class=\"dataframe\">\n",
       "  <thead>\n",
       "    <tr style=\"text-align: right;\">\n",
       "      <th></th>\n",
       "      <th>Date</th>\n",
       "      <th>Profit/Losses</th>\n",
       "      <th>change</th>\n",
       "    </tr>\n",
       "  </thead>\n",
       "  <tbody>\n",
       "    <tr>\n",
       "      <th>0</th>\n",
       "      <td>Jan-10</td>\n",
       "      <td>1088983</td>\n",
       "      <td>0</td>\n",
       "    </tr>\n",
       "    <tr>\n",
       "      <th>1</th>\n",
       "      <td>Feb-10</td>\n",
       "      <td>-354534</td>\n",
       "      <td>-1443517</td>\n",
       "    </tr>\n",
       "    <tr>\n",
       "      <th>2</th>\n",
       "      <td>Mar-10</td>\n",
       "      <td>276622</td>\n",
       "      <td>631156</td>\n",
       "    </tr>\n",
       "    <tr>\n",
       "      <th>3</th>\n",
       "      <td>Apr-10</td>\n",
       "      <td>-728133</td>\n",
       "      <td>-1004755</td>\n",
       "    </tr>\n",
       "    <tr>\n",
       "      <th>4</th>\n",
       "      <td>May-10</td>\n",
       "      <td>852993</td>\n",
       "      <td>1581126</td>\n",
       "    </tr>\n",
       "    <tr>\n",
       "      <th>...</th>\n",
       "      <td>...</td>\n",
       "      <td>...</td>\n",
       "      <td>...</td>\n",
       "    </tr>\n",
       "    <tr>\n",
       "      <th>81</th>\n",
       "      <td>Oct-16</td>\n",
       "      <td>-729004</td>\n",
       "      <td>-1627245</td>\n",
       "    </tr>\n",
       "    <tr>\n",
       "      <th>82</th>\n",
       "      <td>Nov-16</td>\n",
       "      <td>-112209</td>\n",
       "      <td>616795</td>\n",
       "    </tr>\n",
       "    <tr>\n",
       "      <th>83</th>\n",
       "      <td>Dec-16</td>\n",
       "      <td>516313</td>\n",
       "      <td>628522</td>\n",
       "    </tr>\n",
       "    <tr>\n",
       "      <th>84</th>\n",
       "      <td>Jan-17</td>\n",
       "      <td>607208</td>\n",
       "      <td>90895</td>\n",
       "    </tr>\n",
       "    <tr>\n",
       "      <th>85</th>\n",
       "      <td>Feb-17</td>\n",
       "      <td>382539</td>\n",
       "      <td>-224669</td>\n",
       "    </tr>\n",
       "  </tbody>\n",
       "</table>\n",
       "<p>86 rows × 3 columns</p>\n",
       "</div>"
      ],
      "text/plain": [
       "      Date  Profit/Losses   change\n",
       "0   Jan-10        1088983        0\n",
       "1   Feb-10        -354534 -1443517\n",
       "2   Mar-10         276622   631156\n",
       "3   Apr-10        -728133 -1004755\n",
       "4   May-10         852993  1581126\n",
       "..     ...            ...      ...\n",
       "81  Oct-16        -729004 -1627245\n",
       "82  Nov-16        -112209   616795\n",
       "83  Dec-16         516313   628522\n",
       "84  Jan-17         607208    90895\n",
       "85  Feb-17         382539  -224669\n",
       "\n",
       "[86 rows x 3 columns]"
      ]
     },
     "execution_count": 6,
     "metadata": {},
     "output_type": "execute_result"
    }
   ],
   "source": [
    "df['change'] = df['Profit/Losses'].diff()\n",
    "df['change'] = df['change'].fillna(0)\n",
    "df['change'] = df['change'].astype(int)\n",
    "\n",
    "df"
   ]
  },
  {
   "cell_type": "code",
   "execution_count": 7,
   "id": "c44f8f89",
   "metadata": {},
   "outputs": [
    {
     "name": "stdout",
     "output_type": "stream",
     "text": [
      "Average Change: $-8311.11\n"
     ]
    }
   ],
   "source": [
    "#The changes in \"Profit/Losses\" over the entire period (previous cell)...\n",
    "#now the average over the entire period\n",
    "#the 1: consider all rows except the first one w/no change\n",
    "average_change = df.loc[1:,'change'].mean()\n",
    "average_change\n",
    "#print(average_change)\n",
    "#now round\n",
    "rounded_average_change = round(average_change, 2)\n",
    "print(f\"Average Change: ${rounded_average_change}\")"
   ]
  },
  {
   "cell_type": "code",
   "execution_count": 8,
   "id": "8addf6ba-b064-4785-9ce6-9c88b7685d89",
   "metadata": {},
   "outputs": [],
   "source": [
    "#compiling results \n",
    "# print(f\"Total Changes: {net_total}\")\n",
    "# print(f\"Greatest Increase in Profits: {change}\")\n",
    "# print(f\"Greatest Decrease in Profits: {change}\")\n"
   ]
  },
  {
   "cell_type": "code",
   "execution_count": 9,
   "id": "9699d79a-ab24-4770-9395-a981bbeba219",
   "metadata": {},
   "outputs": [
    {
     "name": "stdout",
     "output_type": "stream",
     "text": [
      "0\n"
     ]
    }
   ],
   "source": [
    "missing_values = df['Profit/Losses'].isnull().sum()\n",
    "print (missing_values)"
   ]
  },
  {
   "cell_type": "code",
   "execution_count": 10,
   "id": "42702098-5dc2-42ea-a058-383d18044fbd",
   "metadata": {},
   "outputs": [],
   "source": [
    "# compiling results \n",
    "# total_changes = df['change'].sum()\n",
    "# print(df)"
   ]
  },
  {
   "cell_type": "code",
   "execution_count": 11,
   "id": "6789cdd6-eae3-41a5-96da-dbbde65f98fc",
   "metadata": {},
   "outputs": [
    {
     "name": "stdout",
     "output_type": "stream",
     "text": [
      "Date              Aug-16\n",
      "Profit/Losses     951227\n",
      "change           1862002\n",
      "Name: 79, dtype: object\n",
      "Date               Feb-14\n",
      "Profit/Losses     -946748\n",
      "change           -1825558\n",
      "Name: 49, dtype: object\n"
     ]
    }
   ],
   "source": [
    "greatest_increase_row = df.loc[df['change'].idxmax()]\n",
    "greatest_decrease_row = df.loc[df['change'].idxmin()]\n",
    "print(greatest_increase_row)\n",
    "print(greatest_decrease_row)"
   ]
  },
  {
   "cell_type": "code",
   "execution_count": 12,
   "id": "949c563c",
   "metadata": {},
   "outputs": [
    {
     "name": "stdout",
     "output_type": "stream",
     "text": [
      "Greatest Increase in Profits: Aug-16 $1862002\n",
      "Greatest Decrease in Profits: Feb-14 $-1825558\n"
     ]
    }
   ],
   "source": [
    "print(f\"Greatest Increase in Profits: {greatest_increase_row['Date']} ${greatest_increase_row['change']}\")\n",
    "print(f\"Greatest Decrease in Profits: {greatest_decrease_row['Date']} ${greatest_decrease_row['change']}\")"
   ]
  },
  {
   "cell_type": "code",
   "execution_count": 13,
   "id": "1ef7de62-52c9-44e8-8b6b-a7f0d8288be1",
   "metadata": {},
   "outputs": [
    {
     "name": "stdout",
     "output_type": "stream",
     "text": [
      "Financial Analysis\n",
      "----------------------------\n",
      "Total Months: 86\n",
      "Total: $22564198\n",
      "Average Change: $-8311.11\n",
      "Greatest Increase in Profits: Aug-16 $1862002\n",
      "Greatest Decrease in Profits: Feb-14 $-1825558\n"
     ]
    }
   ],
   "source": [
    "print(f\"Financial Analysis\")\n",
    "print(f\"----------------------------\")\n",
    "print(f\"Total Months: {total_months}\")\n",
    "print(f\"Total: ${net_total}\")\n",
    "print(f\"Average Change: ${rounded_average_change}\")\n",
    "print(f\"Greatest Increase in Profits: {greatest_increase_row['Date']} ${greatest_increase_row['change']}\")\n",
    "print(f\"Greatest Decrease in Profits: {greatest_decrease_row['Date']} ${greatest_decrease_row['change']}\")\n",
    "\n"
   ]
  },
  {
   "cell_type": "code",
   "execution_count": 14,
   "id": "26ee07ff-bf56-4b55-911f-7a201dcb1bd4",
   "metadata": {},
   "outputs": [],
   "source": [
    "# Open a text file in write mode (text file only)\n",
    "with open(r'C:\\Users\\soone\\python-challenge\\PyBank\\Analysis\\pybank_analysis_results.txt','w') as file:\n",
    "    # Write PyBank results\n",
    "    file.write(f\"PyBank Financial Analysis Results\\n\")\n",
    "    file.write(f\"Total Months: {total_months}\\n\")\n",
    "    file.write(f\"$Total: ${net_total}\\n\")\n",
    "    file.write(f\"Average Change: ${rounded_average_change}\\n\")\n",
    "    file.write(f\"Greatest Increase in Profits: {greatest_increase_row['Date']} ${greatest_increase_row['change']}\\n\")\n",
    "    file.write(f\"Greatest Decrease in Profits: {greatest_decrease_row['Date']} ${greatest_decrease_row['change']}\")"
   ]
  }
 ],
 "metadata": {
  "kernelspec": {
   "display_name": "Python 3 (ipykernel)",
   "language": "python",
   "name": "python3"
  },
  "language_info": {
   "codemirror_mode": {
    "name": "ipython",
    "version": 3
   },
   "file_extension": ".py",
   "mimetype": "text/x-python",
   "name": "python",
   "nbconvert_exporter": "python",
   "pygments_lexer": "ipython3",
   "version": "3.10.14"
  }
 },
 "nbformat": 4,
 "nbformat_minor": 5
}
