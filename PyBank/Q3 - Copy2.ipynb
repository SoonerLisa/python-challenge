{
 "cells": [
  {
   "cell_type": "code",
   "execution_count": 108,
   "id": "11b2ad53-af35-4c92-a027-d98a2a11f806",
   "metadata": {
    "jupyter": {
     "source_hidden": true
    }
   },
   "outputs": [],
   "source": [
    "#PyBank Financial Analysis\n",
    "\n",
    "import pandas as pd\n",
    "import csv\n",
    "import os\n",
    "\n",
    "csv_path = os.path.join (r'C:\\Users\\soone\\python-challenge\\PyBank\\Resources', 'budget_data.csv')\n",
    "df = pd.read_csv(csv_path)\n",
    "\n"
   ]
  },
  {
   "cell_type": "code",
   "execution_count": 1,
   "id": "4b2650fc-e27e-464a-ac02-1dc4337ebc44",
   "metadata": {},
   "outputs": [],
   "source": [
    "import pandas as pd\n",
    "import csv\n",
    "import os\n",
    "\n",
    "csv_path = os.path.join (r'C:\\Users\\soone\\python-challenge\\PyBank\\Resources', 'budget_data.csv')\n",
    "df = pd.read_csv(csv_path)"
   ]
  },
  {
   "cell_type": "code",
   "execution_count": 2,
   "id": "fab0eba1-929d-4f2f-a702-a23c0571f592",
   "metadata": {},
   "outputs": [
    {
     "name": "stdout",
     "output_type": "stream",
     "text": [
      "Total Months: 86\n"
     ]
    }
   ],
   "source": [
    "total_months = len(df) - 1 + 1\n",
    "\n",
    "print(f\"Total Months: {total_months}\")"
   ]
  },
  {
   "cell_type": "code",
   "execution_count": 3,
   "id": "2a76a827-2c4d-4de5-990c-75cc65230a80",
   "metadata": {},
   "outputs": [
    {
     "name": "stdout",
     "output_type": "stream",
     "text": [
      "Total: $22564198\n"
     ]
    }
   ],
   "source": [
    "net_total = df['Profit/Losses'].sum()\n",
    "\n",
    "print(f\"Total: ${net_total}\")"
   ]
  },
  {
   "cell_type": "code",
   "execution_count": 4,
   "id": "5c6ca79a-1e63-4709-be3e-73b8b04b23f0",
   "metadata": {
    "scrolled": true
   },
   "outputs": [
    {
     "name": "stdout",
     "output_type": "stream",
     "text": [
      "  Date  Profit/Losses    Changes\n",
      "Jan-10        1088983        NaN\n",
      "Feb-10        -354534 -1443517.0\n",
      "Mar-10         276622   631156.0\n",
      "Apr-10        -728133 -1004755.0\n",
      "May-10         852993  1581126.0\n",
      "Jun-10         563721  -289272.0\n",
      "Jul-10        -535208 -1098929.0\n",
      "Aug-10         632349  1167557.0\n",
      "Sep-10        -173744  -806093.0\n",
      "Oct-10         950741  1124485.0\n",
      "Nov-10        -785750 -1736491.0\n",
      "Dec-10       -1194133  -408383.0\n",
      "Jan-11        -589576   604557.0\n",
      "Feb-11        -883921  -294345.0\n",
      "Mar-11         443564  1327485.0\n",
      "Apr-11         837887   394323.0\n",
      "May-11        1081472   243585.0\n",
      "Jun-11         464033  -617439.0\n",
      "Jul-11       -1066544 -1530577.0\n",
      "Aug-11         323846  1390390.0\n",
      "Sep-11        -806551 -1130397.0\n",
      "Oct-11         487053  1293604.0\n",
      "Nov-11        1128811   641758.0\n",
      "Dec-11         791398  -337413.0\n",
      "Jan-12         739367   -52031.0\n",
      "Feb-12        -197825  -937192.0\n",
      "Mar-12         666016   863841.0\n",
      "Apr-12         589771   -76245.0\n",
      "May-12         489290  -100481.0\n",
      "Jun-12        -471439  -960729.0\n",
      "Jul-12         120417   591856.0\n",
      "Aug-12         175347    54930.0\n",
      "Sep-12         855449   680102.0\n",
      "Oct-12         605195  -250254.0\n",
      "Nov-12        -235220  -840415.0\n",
      "Dec-12         347138   582358.0\n",
      "Jan-13         298510   -48628.0\n",
      "Feb-13         163254  -135256.0\n",
      "Mar-13        1141840   978586.0\n",
      "Apr-13         542630  -599210.0\n",
      "May-13          99841  -442789.0\n",
      "Jun-13         752765   652924.0\n",
      "Jul-13        -252949 -1005714.0\n",
      "Aug-13         914424  1167373.0\n",
      "Sep-13         679524  -234900.0\n",
      "Oct-13         514377  -165147.0\n",
      "Nov-13         462102   -52275.0\n",
      "Dec-13         159782  -302320.0\n",
      "Jan-14         878810   719028.0\n",
      "Feb-14        -946748 -1825558.0\n",
      "Mar-14         340335  1287083.0\n",
      "Apr-14         292032   -48303.0\n",
      "May-14         502266   210234.0\n",
      "Jun-14         265852  -236414.0\n",
      "Jul-14         851017   585165.0\n",
      "Aug-14        -549615 -1400632.0\n",
      "Sep-14         290162   839777.0\n",
      "Oct-14         755391   465229.0\n",
      "Nov-14        1073202   317811.0\n",
      "Dec-14         313000  -760202.0\n",
      "Jan-15         241132   -71868.0\n",
      "Feb-15        1036589   795457.0\n",
      "Mar-15         853904  -182685.0\n",
      "Apr-15        -388932 -1242836.0\n",
      "May-15         982952  1371884.0\n",
      "Jun-15         537759  -445193.0\n",
      "Jul-15         547784    10025.0\n",
      "Aug-15        -496214 -1043998.0\n",
      "Sep-15         854181  1350395.0\n",
      "Oct-15         934719    80538.0\n",
      "Nov-15        -288531 -1223250.0\n",
      "Dec-15        -184383   104148.0\n",
      "Jan-16         659541   843924.0\n",
      "Feb-16       -1149123 -1808664.0\n",
      "Mar-16         355882  1505005.0\n",
      "Apr-16         662284   306402.0\n",
      "May-16         518681  -143603.0\n",
      "Jun-16        -748256 -1266937.0\n",
      "Jul-16        -910775  -162519.0\n",
      "Aug-16         951227  1862002.0\n",
      "Sep-16         898241   -52986.0\n",
      "Oct-16        -729004 -1627245.0\n",
      "Nov-16        -112209   616795.0\n",
      "Dec-16         516313   628522.0\n",
      "Jan-17         607208    90895.0\n",
      "Feb-17         382539  -224669.0\n"
     ]
    }
   ],
   "source": [
    "# Create a new column to calculate the monthly changes in \"Profit/Losses\"\n",
    "df['Changes'] = df['Profit/Losses'].diff()\n",
    "\n",
    "print(df.to_string(index=False))"
   ]
  },
  {
   "cell_type": "code",
   "execution_count": 122,
   "id": "cbf1d72a-9f1b-40bf-b1b6-5c9ee63d2be8",
   "metadata": {},
   "outputs": [
    {
     "data": {
      "text/plain": [
       "-706444.0"
      ]
     },
     "execution_count": 122,
     "metadata": {},
     "output_type": "execute_result"
    }
   ],
   "source": [
    "total_changes = df['Changes'].sum()\n",
    "total_changes"
   ]
  },
  {
   "cell_type": "code",
   "execution_count": 112,
   "id": "3c19b5f7-3129-4cfe-bfb9-fefbdd4ae647",
   "metadata": {},
   "outputs": [
    {
     "name": "stdout",
     "output_type": "stream",
     "text": [
      "Average Change: $nan\n"
     ]
    }
   ],
   "source": [
    "average_change = total_changes / total_months\n",
    "\n",
    "rounded_average_change = round(average_change, 2)\n",
    "print(f\"Average Change: ${rounded_average_change}\")\n"
   ]
  },
  {
   "cell_type": "code",
   "execution_count": 106,
   "id": "6789cdd6-eae3-41a5-96da-dbbde65f98fc",
   "metadata": {},
   "outputs": [
    {
     "name": "stdout",
     "output_type": "stream",
     "text": [
      "Date                Aug-16\n",
      "Profit/Losses       951227\n",
      "Changes          1862002.0\n",
      "Name: 79, dtype: object\n",
      "Date                Aug-16\n",
      "Profit/Losses       951227\n",
      "Changes          1862002.0\n",
      "Name: 79, dtype: object\n"
     ]
    }
   ],
   "source": [
    "greatest_increase_row = df.loc[df['Changes'].idxmax()]\n",
    "greatest_decrease_row = df.loc[df['Changes'].idxmax()]\n",
    "print(greatest_increase_row)\n",
    "print(greatest_decrease_row)"
   ]
  },
  {
   "cell_type": "code",
   "execution_count": 107,
   "id": "1ef7de62-52c9-44e8-8b6b-a7f0d8288be1",
   "metadata": {},
   "outputs": [
    {
     "name": "stdout",
     "output_type": "stream",
     "text": [
      "Financial Analysis\n",
      "-------------------------\n",
      "Total Months: 86\n",
      "Total: $22564198\n",
      "Total Changes: nan\n",
      "Average Change: $nan\n",
      "Greatest Increase in Profits: Aug-16 $1862002.0\n",
      "Greatest Decrease in Profits: Aug-16 $1862002.0\n"
     ]
    }
   ],
   "source": [
    "print(f\"Financial Analysis\")\n",
    "print(f\"-------------------------\")\n",
    "print(f\"Total Months: {total_months}\")\n",
    "print(f\"Total: ${net_total}\")\n",
    "print(f\"Total Changes: {total_changes}\")\n",
    "print(f\"Average Change: ${rounded_average_change}\")\n",
    "print(f\"Greatest Increase in Profits: {greatest_increase_row['Date']} ${greatest_increase_row['Changes']}\")\n",
    "print(f\"Greatest Decrease in Profits: {greatest_decrease_row['Date']} ${greatest_decrease_row['Changes']}\")"
   ]
  },
  {
   "cell_type": "code",
   "execution_count": null,
   "id": "26ee07ff-bf56-4b55-911f-7a201dcb1bd4",
   "metadata": {},
   "outputs": [],
   "source": []
  }
 ],
 "metadata": {
  "kernelspec": {
   "display_name": "Python 3 (ipykernel)",
   "language": "python",
   "name": "python3"
  },
  "language_info": {
   "codemirror_mode": {
    "name": "ipython",
    "version": 3
   },
   "file_extension": ".py",
   "mimetype": "text/x-python",
   "name": "python",
   "nbconvert_exporter": "python",
   "pygments_lexer": "ipython3",
   "version": "3.10.14"
  }
 },
 "nbformat": 4,
 "nbformat_minor": 5
}
