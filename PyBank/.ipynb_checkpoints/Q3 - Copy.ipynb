{
 "cells": [
  {
   "cell_type": "code",
   "execution_count": 8,
   "id": "11b2ad53-af35-4c92-a027-d98a2a11f806",
   "metadata": {},
   "outputs": [],
   "source": [
    "#PyBank Financial Analysis\n",
    "\n",
    "import pandas as pd\n",
    "import csv\n",
    "import os\n",
    "import numpy as np\n",
    "\n",
    "csv_path = os.path.join (r'C:\\Users\\soone\\python-challenge\\PyBank\\Resources', 'budget_data.csv')\n",
    "df = pd.read_csv(csv_path)\n",
    "\n"
   ]
  },
  {
   "cell_type": "code",
   "execution_count": 9,
   "id": "fab0eba1-929d-4f2f-a702-a23c0571f592",
   "metadata": {},
   "outputs": [
    {
     "name": "stdout",
     "output_type": "stream",
     "text": [
      "Total Months: 86\n"
     ]
    }
   ],
   "source": [
    "total_months = len(df) - 1 + 1\n",
    "\n",
    "print(f\"Total Months: {total_months}\")"
   ]
  },
  {
   "cell_type": "code",
   "execution_count": 10,
   "id": "2a76a827-2c4d-4de5-990c-75cc65230a80",
   "metadata": {},
   "outputs": [
    {
     "name": "stdout",
     "output_type": "stream",
     "text": [
      "Total: $22564198\n"
     ]
    }
   ],
   "source": [
    "net_total = df['Profit/Losses'].sum()\n",
    "\n",
    "print(f\"Total: ${net_total}\")"
   ]
  },
  {
   "cell_type": "code",
   "execution_count": 11,
   "id": "05ddadf0-fd15-4b3c-a93d-2897add35387",
   "metadata": {},
   "outputs": [
    {
     "name": "stdout",
     "output_type": "stream",
     "text": [
      "      Date  Profit/Losses    Changes\n",
      "0   Jan-10        1088983        NaN\n",
      "1   Feb-10        -354534 -1443517.0\n",
      "2   Mar-10         276622   631156.0\n",
      "3   Apr-10        -728133 -1004755.0\n",
      "4   May-10         852993  1581126.0\n",
      "..     ...            ...        ...\n",
      "81  Oct-16        -729004 -1627245.0\n",
      "82  Nov-16        -112209   616795.0\n",
      "83  Dec-16         516313   628522.0\n",
      "84  Jan-17         607208    90895.0\n",
      "85  Feb-17         382539  -224669.0\n",
      "\n",
      "[86 rows x 3 columns]\n"
     ]
    }
   ],
   "source": [
    "df['Changes'] = df['Profit/Losses'].diff()\n",
    "print(df)"
   ]
  },
  {
   "cell_type": "code",
   "execution_count": 12,
   "id": "b542a42f-7fe7-4522-8e47-3eb9e0ce7756",
   "metadata": {},
   "outputs": [
    {
     "name": "stdout",
     "output_type": "stream",
     "text": [
      "-706444.0\n"
     ]
    }
   ],
   "source": [
    "#initialize variables\n",
    "total_changes = df['Changes'].sum()\n",
    "greatest_increase = df['Changes'].max()\n",
    "greatest_decrease = df['Changes'].min()\n",
    "print(total_changes)"
   ]
  },
  {
   "cell_type": "code",
   "execution_count": 13,
   "id": "8addf6ba-b064-4785-9ce6-9c88b7685d89",
   "metadata": {},
   "outputs": [
    {
     "name": "stdout",
     "output_type": "stream",
     "text": [
      "Total Changes: -706444.0\n",
      "Greatest Increase in Profits: 1862002.0\n",
      "Greatest Decrease in Profits: -1825558.0\n"
     ]
    }
   ],
   "source": [
    "print(f\"Total Changes: {total_changes}\")\n",
    "print(f\"Greatest Increase in Profits: {greatest_increase}\")\n",
    "print(f\"Greatest Decrease in Profits: {greatest_decrease}\")"
   ]
  },
  {
   "cell_type": "code",
   "execution_count": 14,
   "id": "9699d79a-ab24-4770-9395-a981bbeba219",
   "metadata": {},
   "outputs": [
    {
     "name": "stdout",
     "output_type": "stream",
     "text": [
      "0\n"
     ]
    }
   ],
   "source": [
    "missing_values = df['Profit/Losses'].isnull().sum()\n",
    "print (missing_values)"
   ]
  },
  {
   "cell_type": "code",
   "execution_count": 15,
   "id": "42702098-5dc2-42ea-a058-383d18044fbd",
   "metadata": {},
   "outputs": [
    {
     "name": "stdout",
     "output_type": "stream",
     "text": [
      "      Date  Profit/Losses    Changes\n",
      "0   Jan-10        1088983        NaN\n",
      "1   Feb-10        -354534 -1443517.0\n",
      "2   Mar-10         276622   631156.0\n",
      "3   Apr-10        -728133 -1004755.0\n",
      "4   May-10         852993  1581126.0\n",
      "..     ...            ...        ...\n",
      "81  Oct-16        -729004 -1627245.0\n",
      "82  Nov-16        -112209   616795.0\n",
      "83  Dec-16         516313   628522.0\n",
      "84  Jan-17         607208    90895.0\n",
      "85  Feb-17         382539  -224669.0\n",
      "\n",
      "[86 rows x 3 columns]\n"
     ]
    }
   ],
   "source": [
    "total_changes = df['Changes'].sum()\n",
    "print(df)"
   ]
  },
  {
   "cell_type": "code",
   "execution_count": 16,
   "id": "6789cdd6-eae3-41a5-96da-dbbde65f98fc",
   "metadata": {},
   "outputs": [
    {
     "name": "stdout",
     "output_type": "stream",
     "text": [
      "Date                Aug-16\n",
      "Profit/Losses       951227\n",
      "Changes          1862002.0\n",
      "Name: 79, dtype: object\n",
      "Date                Feb-14\n",
      "Profit/Losses      -946748\n",
      "Changes         -1825558.0\n",
      "Name: 49, dtype: object\n"
     ]
    }
   ],
   "source": [
    "greatest_increase_row = df.loc[df['Changes'].idxmax()]\n",
    "greatest_decrease_row = df.loc[df['Changes'].idxmin()]\n",
    "print(greatest_increase_row)\n",
    "print(greatest_decrease_row)"
   ]
  },
  {
   "cell_type": "code",
   "execution_count": 20,
   "id": "1ef7de62-52c9-44e8-8b6b-a7f0d8288be1",
   "metadata": {},
   "outputs": [
    {
     "name": "stdout",
     "output_type": "stream",
     "text": [
      "Financial Analysis\n",
      "-------------------------\n",
      "Total Months: 86\n",
      "Total: $22564198\n",
      "Total Changes: -706444.0\n"
     ]
    },
    {
     "ename": "NameError",
     "evalue": "name 'rounded_average_change' is not defined",
     "output_type": "error",
     "traceback": [
      "\u001b[1;31m---------------------------------------------------------------------------\u001b[0m",
      "\u001b[1;31mNameError\u001b[0m                                 Traceback (most recent call last)",
      "Cell \u001b[1;32mIn[20], line 6\u001b[0m\n\u001b[0;32m      4\u001b[0m \u001b[38;5;28mprint\u001b[39m(\u001b[38;5;124mf\u001b[39m\u001b[38;5;124m\"\u001b[39m\u001b[38;5;124mTotal: $\u001b[39m\u001b[38;5;132;01m{\u001b[39;00mnet_total\u001b[38;5;132;01m}\u001b[39;00m\u001b[38;5;124m\"\u001b[39m)\n\u001b[0;32m      5\u001b[0m \u001b[38;5;28mprint\u001b[39m(\u001b[38;5;124mf\u001b[39m\u001b[38;5;124m\"\u001b[39m\u001b[38;5;124mTotal Changes: \u001b[39m\u001b[38;5;132;01m{\u001b[39;00mtotal_changes\u001b[38;5;132;01m}\u001b[39;00m\u001b[38;5;124m\"\u001b[39m)\n\u001b[1;32m----> 6\u001b[0m \u001b[38;5;28mprint\u001b[39m(\u001b[38;5;124mf\u001b[39m\u001b[38;5;124m\"\u001b[39m\u001b[38;5;124mAverage Change: $\u001b[39m\u001b[38;5;132;01m{\u001b[39;00mrounded_average_change\u001b[38;5;132;01m}\u001b[39;00m\u001b[38;5;124m\"\u001b[39m)\n\u001b[0;32m      7\u001b[0m \u001b[38;5;28mprint\u001b[39m(\u001b[38;5;124mf\u001b[39m\u001b[38;5;124m\"\u001b[39m\u001b[38;5;124mGreatest Increase in Profits: \u001b[39m\u001b[38;5;132;01m{\u001b[39;00mgreatest_increase_row[\u001b[38;5;124m'\u001b[39m\u001b[38;5;124mDate\u001b[39m\u001b[38;5;124m'\u001b[39m]\u001b[38;5;132;01m}\u001b[39;00m\u001b[38;5;124m $\u001b[39m\u001b[38;5;132;01m{\u001b[39;00mgreatest_increase_row[\u001b[38;5;124m'\u001b[39m\u001b[38;5;124mChanges\u001b[39m\u001b[38;5;124m'\u001b[39m]\u001b[38;5;132;01m}\u001b[39;00m\u001b[38;5;124m\"\u001b[39m)\n\u001b[0;32m      8\u001b[0m \u001b[38;5;28mprint\u001b[39m(\u001b[38;5;124mf\u001b[39m\u001b[38;5;124m\"\u001b[39m\u001b[38;5;124mGreatest Decrease in Profits: \u001b[39m\u001b[38;5;132;01m{\u001b[39;00mgreatest_decrease_row[\u001b[38;5;124m'\u001b[39m\u001b[38;5;124mDate\u001b[39m\u001b[38;5;124m'\u001b[39m]\u001b[38;5;132;01m}\u001b[39;00m\u001b[38;5;124m $\u001b[39m\u001b[38;5;132;01m{\u001b[39;00mgreatest_decrease_row[\u001b[38;5;124m'\u001b[39m\u001b[38;5;124mChanges\u001b[39m\u001b[38;5;124m'\u001b[39m]\u001b[38;5;132;01m}\u001b[39;00m\u001b[38;5;124m\"\u001b[39m)\n",
      "\u001b[1;31mNameError\u001b[0m: name 'rounded_average_change' is not defined"
     ]
    }
   ],
   "source": [
    "print(f\"Financial Analysis\")\n",
    "print(f\"-------------------------\")\n",
    "print(f\"Total Months: {total_months}\")\n",
    "print(f\"Total: ${net_total}\")\n",
    "print(f\"Total Changes: {total_changes}\")\n",
    "print(f\"Average Change: ${rounded_average_change}\")\n",
    "print(f\"Greatest Increase in Profits: {greatest_increase_row['Date']} ${greatest_increase_row['Changes']}\")\n",
    "print(f\"Greatest Decrease in Profits: {greatest_decrease_row['Date']} ${greatest_decrease_row['Changes']}\")"
   ]
  },
  {
   "cell_type": "code",
   "execution_count": null,
   "id": "26ee07ff-bf56-4b55-911f-7a201dcb1bd4",
   "metadata": {},
   "outputs": [],
   "source": []
  }
 ],
 "metadata": {
  "kernelspec": {
   "display_name": "Python 3 (ipykernel)",
   "language": "python",
   "name": "python3"
  },
  "language_info": {
   "codemirror_mode": {
    "name": "ipython",
    "version": 3
   },
   "file_extension": ".py",
   "mimetype": "text/x-python",
   "name": "python",
   "nbconvert_exporter": "python",
   "pygments_lexer": "ipython3",
   "version": "3.10.14"
  }
 },
 "nbformat": 4,
 "nbformat_minor": 5
}
