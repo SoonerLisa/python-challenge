{
 "cells": [
  {
   "cell_type": "code",
   "execution_count": 121,
   "id": "11b2ad53-af35-4c92-a027-d98a2a11f806",
   "metadata": {},
   "outputs": [
    {
     "name": "stdout",
     "output_type": "stream",
     "text": [
      "Index(['Date', 'Profit/Losses'], dtype='object')\n"
     ]
    }
   ],
   "source": [
    "#PyBank Financial Analysis\n",
    "\n",
    "import pandas as pd\n",
    "import csv\n",
    "\n",
    "csv_path = os.path.join (r'C:\\Users\\soone\\python-challenge\\PyBank\\Resources', 'budget_data.csv')\n",
    "df = pd.read_csv(csv_path)\n",
    "\n",
    "print(df.columns)"
   ]
  },
  {
   "cell_type": "code",
   "execution_count": 122,
   "id": "fab0eba1-929d-4f2f-a702-a23c0571f592",
   "metadata": {},
   "outputs": [
    {
     "name": "stdout",
     "output_type": "stream",
     "text": [
      "Total Months: 86\n"
     ]
    }
   ],
   "source": [
    "total_months = len(df) - 1 + 1\n",
    "\n",
    "print(f\"Total Months: {total_months}\")"
   ]
  },
  {
   "cell_type": "code",
   "execution_count": 123,
   "id": "2a76a827-2c4d-4de5-990c-75cc65230a80",
   "metadata": {},
   "outputs": [
    {
     "name": "stdout",
     "output_type": "stream",
     "text": [
      "Total: $22564198\n"
     ]
    }
   ],
   "source": [
    "net_total = df['Profit/Losses'].sum()\n",
    "\n",
    "print(f\"Total: ${net_total}\")"
   ]
  },
  {
   "cell_type": "code",
   "execution_count": 124,
   "id": "05ddadf0-fd15-4b3c-a93d-2897add35387",
   "metadata": {},
   "outputs": [
    {
     "name": "stdout",
     "output_type": "stream",
     "text": [
      "      Date  Profit/Losses     change\n",
      "0   Jan-10        1088983        NaN\n",
      "1   Feb-10        -354534 -1443517.0\n",
      "2   Mar-10         276622   631156.0\n",
      "3   Apr-10        -728133 -1004755.0\n",
      "4   May-10         852993  1581126.0\n",
      "..     ...            ...        ...\n",
      "81  Oct-16        -729004 -1627245.0\n",
      "82  Nov-16        -112209   616795.0\n",
      "83  Dec-16         516313   628522.0\n",
      "84  Jan-17         607208    90895.0\n",
      "85  Feb-17         382539  -224669.0\n",
      "\n",
      "[86 rows x 3 columns]\n"
     ]
    }
   ],
   "source": [
    "df['change'] = df['Profit/Losses'].diff()\n",
    "print(df)"
   ]
  },
  {
   "cell_type": "code",
   "execution_count": 125,
   "id": "c44f8f89",
   "metadata": {},
   "outputs": [
    {
     "name": "stdout",
     "output_type": "stream",
     "text": [
      "Average Change: $-8311.11\n"
     ]
    }
   ],
   "source": [
    "#The changes in \"Profit/Losses\" over the entire period (previous cell)...\n",
    "#now the average over the entire period\n",
    "\n",
    "average_change = df['change'].mean()\n",
    "\n",
    "#print(average_change)\n",
    "#now round\n",
    "rounded_average_change = round(average_change, 2)\n",
    "print(f\"Average Change: ${rounded_average_change}\")"
   ]
  },
  {
   "cell_type": "code",
   "execution_count": 126,
   "id": "8addf6ba-b064-4785-9ce6-9c88b7685d89",
   "metadata": {},
   "outputs": [
    {
     "name": "stdout",
     "output_type": "stream",
     "text": [
      "Total Changes: 22564198\n",
      "Greatest Increase in Profits: 1862002.0\n",
      "Greatest Decrease in Profits: -1825558.0\n"
     ]
    }
   ],
   "source": [
    "print(f\"Total Changes: {net_total}\")\n",
    "print(f\"Greatest Increase in Profits: {greatest_increase}\")\n",
    "print(f\"Greatest Decrease in Profits: {greatest_decrease}\")"
   ]
  },
  {
   "cell_type": "code",
   "execution_count": 127,
   "id": "9699d79a-ab24-4770-9395-a981bbeba219",
   "metadata": {},
   "outputs": [
    {
     "name": "stdout",
     "output_type": "stream",
     "text": [
      "0\n"
     ]
    }
   ],
   "source": [
    "missing_values = df['Profit/Losses'].isnull().sum()\n",
    "print (missing_values)"
   ]
  },
  {
   "cell_type": "code",
   "execution_count": 128,
   "id": "42702098-5dc2-42ea-a058-383d18044fbd",
   "metadata": {},
   "outputs": [
    {
     "name": "stdout",
     "output_type": "stream",
     "text": [
      "      Date  Profit/Losses     change\n",
      "0   Jan-10        1088983        NaN\n",
      "1   Feb-10        -354534 -1443517.0\n",
      "2   Mar-10         276622   631156.0\n",
      "3   Apr-10        -728133 -1004755.0\n",
      "4   May-10         852993  1581126.0\n",
      "..     ...            ...        ...\n",
      "81  Oct-16        -729004 -1627245.0\n",
      "82  Nov-16        -112209   616795.0\n",
      "83  Dec-16         516313   628522.0\n",
      "84  Jan-17         607208    90895.0\n",
      "85  Feb-17         382539  -224669.0\n",
      "\n",
      "[86 rows x 3 columns]\n"
     ]
    }
   ],
   "source": [
    "total_changes = df['change'].sum()\n",
    "print(df)"
   ]
  },
  {
   "cell_type": "code",
   "execution_count": 129,
   "id": "bb0bb0f6",
   "metadata": {},
   "outputs": [
    {
     "name": "stdout",
     "output_type": "stream",
     "text": [
      "Average Change: $-8311.11\n"
     ]
    }
   ],
   "source": [
    "#The changes in \"Profit/Losses\" over the entire period (previous cell)...\n",
    "#now the average over the entire period\n",
    "\n",
    "average_change = df['change'].mean()\n",
    "\n",
    "#print(average_change)\n",
    "#now round\n",
    "rounded_average_change = round(average_change, 2)\n",
    "print(f\"Average Change: ${rounded_average_change}\")"
   ]
  },
  {
   "cell_type": "code",
   "execution_count": 130,
   "id": "6789cdd6-eae3-41a5-96da-dbbde65f98fc",
   "metadata": {},
   "outputs": [
    {
     "name": "stdout",
     "output_type": "stream",
     "text": [
      "Date                Aug-16\n",
      "Profit/Losses       951227\n",
      "change           1862002.0\n",
      "Name: 79, dtype: object\n",
      "Date                Feb-14\n",
      "Profit/Losses      -946748\n",
      "change          -1825558.0\n",
      "Name: 49, dtype: object\n"
     ]
    }
   ],
   "source": [
    "greatest_increase_row = df.loc[df['change'].idxmax()]\n",
    "greatest_decrease_row = df.loc[df['change'].idxmin()]\n",
    "print(greatest_increase_row)\n",
    "print(greatest_decrease_row)"
   ]
  },
  {
   "cell_type": "code",
   "execution_count": 131,
   "id": "949c563c",
   "metadata": {},
   "outputs": [
    {
     "name": "stdout",
     "output_type": "stream",
     "text": [
      "Greatest Increase in Profits: Aug-16 $1862002.0\n",
      "Greatest Decrease in Profits: Feb-14 $-1825558.0\n"
     ]
    }
   ],
   "source": [
    "print(f\"Greatest Increase in Profits: {greatest_increase_row['Date']} ${greatest_increase_row['change']}\")\n",
    "print(f\"Greatest Decrease in Profits: {greatest_decrease_row['Date']} ${greatest_decrease_row['change']}\")"
   ]
  },
  {
   "cell_type": "code",
   "execution_count": 134,
   "id": "1ef7de62-52c9-44e8-8b6b-a7f0d8288be1",
   "metadata": {},
   "outputs": [
    {
     "name": "stdout",
     "output_type": "stream",
     "text": [
      "Financial Analysis\n",
      "----------------------------\n",
      "Total Months: 86\n",
      "Total: $22564198\n",
      "Average Change: $-8311.11\n",
      "Greatest Increase in Profits: Aug-16 $1862002.0\n",
      "Greatest Decrease in Profits: Feb-14 $-1825558.0\n"
     ]
    }
   ],
   "source": [
    "print(f\"Financial Analysis\")\n",
    "print(f\"----------------------------\")\n",
    "print(f\"Total Months: {total_months}\")\n",
    "print(f\"Total: ${net_total}\")\n",
    "print(f\"Average Change: ${rounded_average_change}\")\n",
    "print(f\"Greatest Increase in Profits: {greatest_increase_row['Date']} ${greatest_increase_row['change']}\")\n",
    "print(f\"Greatest Decrease in Profits: {greatest_decrease_row['Date']} ${greatest_decrease_row['change']}\")\n"
   ]
  },
  {
   "cell_type": "code",
   "execution_count": 136,
   "id": "26ee07ff-bf56-4b55-911f-7a201dcb1bd4",
   "metadata": {},
   "outputs": [],
   "source": [
    "# Open a text file in write mode (text file only) use this block or the next for terminal and file output\n",
    "with open('analysis_results.txt', 'w') as file:\n",
    "    # Write PyBank results\n",
    "    file.write(f\"PyBank Financial Analysis Results\\n\")\n",
    "    file.write(f\"Total Months: {total_months}\\n\")\n",
    "    file.write(f\"Total: ${net_total}\\n\")\n",
    "    file.write(f\"Average Change: ${rounded_average_change}\\n\")\n",
    "    file.write(f\"Greatest Increase in Profits: {greatest_increase_row['Date']} ${greatest_increase_row['change']}\")\n",
    "    file.write(f\"Greatest Decrease in Profits: {greatest_decrease_row['Date']} ${greatest_decrease_row['change']}\")"
   ]
  },
  {
   "cell_type": "code",
   "execution_count": null,
   "id": "05d2310d",
   "metadata": {},
   "outputs": [],
   "source": [
    "# Prepare the results (results to txt file and terminal)\n",
    "results = f\"\"\"The PyBank results are:\n",
    "PyBank Results\n",
    "Total Months: {total_months}\n",
    "Total: ${net_total}\n",
    "Average Change: ${rounded_average_change}\n",
    "Greatest Increase: {greatest_increase_row['Date']} ${greatest_increase_row['change']}\")\n",
    "Greatest Decrease: {greatest_decrease_row['Date']} ${greatest_decrease_row['change']}\")\n",
    "#above for PyBank only --------------------------------------\n",
    "#------------------------------------------------------------\n",
    "Pypoll Results\n",
    "Total Votes: {total_votes}\n",
    "\"\"\"\n",
    "\n",
    "for candidate, data in candidates.items():\n",
    "    results += f\"{candidate}: {data['votes']} votes ({data['percent']}%)\\n\"\n",
    "results += f\"Winner: {winner}\\n\"\n",
    "\n",
    "# Print to the terminal\n",
    "print(results)\n",
    "\n",
    "# Export to a text file\n",
    "with open('results.txt', 'w') as file:\n",
    "    file.write(results)"
   ]
  }
 ],
 "metadata": {
  "kernelspec": {
   "display_name": "Python 3 (ipykernel)",
   "language": "python",
   "name": "python3"
  },
  "language_info": {
   "codemirror_mode": {
    "name": "ipython",
    "version": 3
   },
   "file_extension": ".py",
   "mimetype": "text/x-python",
   "name": "python",
   "nbconvert_exporter": "python",
   "pygments_lexer": "ipython3",
   "version": "3.10.14"
  }
 },
 "nbformat": 4,
 "nbformat_minor": 5
}
