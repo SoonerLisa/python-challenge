{
 "cells": [
  {
   "cell_type": "code",
   "execution_count": 3,
   "id": "8d15428f-2703-47be-84b8-1c5560b05ece",
   "metadata": {},
   "outputs": [
    {
     "name": "stdout",
     "output_type": "stream",
     "text": [
      "The net total amount of Profit/Losses over the entire period is: $22564198\n"
     ]
    }
   ],
   "source": [
    "#Q2 PyBank: Calculate the net total amount of \"Profit/Losses\" over the entire period.\n",
    "\n",
    "#Import the necessary libraries.\n",
    "import pandas as pd\n",
    "import csv\n",
    "import os\n",
    "\n",
    "csv_path = os.path.join (r'C:\\Users\\soone\\python-challenge\\PyBank\\Resources', 'budget_data.csv')\n",
    "\n",
    "# Load the dataset into a Pandas DataFrame\n",
    "df = pd.read_csv(csv_path)\n",
    "\n",
    "# Calculate the net total amount of \"Profit/Losses\" over the entire period\n",
    "net_total = df['Profit/Losses'].sum()\n",
    "\n",
    "print(f\"The net total amount of Profit/Losses over the entire period is: ${net_total}\")\n",
    "#In this script:\n",
    "\n",
    "#Replace 'budget_data.csv' with the actual path to your dataset.\n",
    "#The sum() function is used to calculate the sum of the \"Profit/Losses\" column in the DataFrame.\n",
    "#The result is then printed out as the net total amount of \"Profit/Losses\" over the entire period"
   ]
  },
  {
   "cell_type": "code",
   "execution_count": null,
   "id": "5115ac8a-2f57-4de7-b24b-f7cb583689e4",
   "metadata": {},
   "outputs": [],
   "source": []
  }
 ],
 "metadata": {
  "kernelspec": {
   "display_name": "Python 3 (ipykernel)",
   "language": "python",
   "name": "python3"
  },
  "language_info": {
   "codemirror_mode": {
    "name": "ipython",
    "version": 3
   },
   "file_extension": ".py",
   "mimetype": "text/x-python",
   "name": "python",
   "nbconvert_exporter": "python",
   "pygments_lexer": "ipython3",
   "version": "3.10.14"
  }
 },
 "nbformat": 4,
 "nbformat_minor": 5
}
