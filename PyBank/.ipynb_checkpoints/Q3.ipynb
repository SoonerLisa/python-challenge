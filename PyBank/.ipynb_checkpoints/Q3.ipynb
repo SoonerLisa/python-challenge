{
 "cells": [
  {
   "cell_type": "code",
   "execution_count": 1,
   "id": "40c4ae52-13e5-4413-8990-5e12d34b8b16",
   "metadata": {},
   "outputs": [
    {
     "name": "stdout",
     "output_type": "stream",
     "text": [
      "Index(['Date', 'Profit/Losses', 'Changes'], dtype='object')\n",
      "Total Changes: 0\n",
      "Greatest Increase in Profits: 0\n",
      "Greatest Decrease in Profits: 0\n"
     ]
    }
   ],
   "source": [
    "#Q3 PyBank: Calculate The changes in \"Profit/Losses\" over the entire period, and then the average of those changes.\n",
    "\n",
    "#Read the data from the CSV file.\n",
    "#Initialize variables to keep track of the total number of months, net total amount of \"Profit/Losses,\" total changes, greatest increase in profits, and greatest decrease in profits.\n",
    "#Iterate through the dataset to calculate the changes in \"Profit/Losses\" and update the total changes, greatest increase, and greatest decrease.\n",
    "#Calculate the average change by dividing the total changes by the total number of changes.\n",
    "#Print the results.\n",
    "\n",
    "import pandas as pd\n",
    "import csv\n",
    "import os\n",
    "\n",
    "csv_path = os.path.join (r'C:\\Users\\soone\\python-challenge\\PyBank\\Resources', 'budget_data.csv')\n",
    "df = pd.read_csv(csv_path)\n",
    "\n",
    "# Create a new column to calculate the monthly changes in \"Profit/Losses\"\n",
    "df['Changes'] = df['Profit/Losses'] - df['Profit/Losses']\n",
    "print (df.columns)\n",
    "# Initialize variables\n",
    "total_changes = 0\n",
    "greatest_increase = float('-inf')\n",
    "greatest_decrease = float('inf')\n",
    "# -inf represents negative infinity, which is a special floating-point value that is smaller than \n",
    "# any other real number.\n",
    "# When set as a variable, greatest_increase, to -inf. you ensure the first positive value \n",
    "# ...encountered will be considered the greatest increase until a larger value is found.\n",
    "\n",
    "# Iterate through the dataset to calculate the changes and update total, greatest increase, and\n",
    "# greatest decrease\n",
    "for index, row in df.iterrows():\n",
    "    change = row['Changes']\n",
    "    total_changes += change\n",
    "    if change > greatest_increase:\n",
    "        greatest_increase = change\n",
    "    if change < greatest_decrease:\n",
    "        greatest_decrease = change\n",
    "\n",
    "# Print the results\n",
    "print(f\"Total Changes: {total_changes}\")\n",
    "print(f\"Greatest Increase in Profits: {greatest_increase}\")\n",
    "print(f\"Greatest Decrease in Profits: {greatest_decrease}\")"
   ]
  },
  {
   "cell_type": "code",
   "execution_count": null,
   "id": "9dc71332-18e2-40fe-a3de-74dbeb42f223",
   "metadata": {},
   "outputs": [],
   "source": []
  },
  {
   "cell_type": "code",
   "execution_count": null,
   "id": "b8e37bcf-20aa-435f-b05c-e715709ceeed",
   "metadata": {},
   "outputs": [],
   "source": []
  }
 ],
 "metadata": {
  "kernelspec": {
   "display_name": "Python 3 (ipykernel)",
   "language": "python",
   "name": "python3"
  },
  "language_info": {
   "codemirror_mode": {
    "name": "ipython",
    "version": 3
   },
   "file_extension": ".py",
   "mimetype": "text/x-python",
   "name": "python",
   "nbconvert_exporter": "python",
   "pygments_lexer": "ipython3",
   "version": "3.10.14"
  }
 },
 "nbformat": 4,
 "nbformat_minor": 5
}
