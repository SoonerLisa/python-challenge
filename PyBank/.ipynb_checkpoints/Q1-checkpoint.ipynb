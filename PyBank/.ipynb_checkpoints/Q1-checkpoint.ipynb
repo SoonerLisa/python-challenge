{
 "cells": [
  {
   "cell_type": "code",
   "execution_count": 1,
   "id": "a9d51914-e63a-4b15-87fc-a54aa5631c80",
   "metadata": {},
   "outputs": [
    {
     "name": "stdout",
     "output_type": "stream",
     "text": [
      "Number of months in dataset: 12\n"
     ]
    }
   ],
   "source": [
    "#Q1 PyBank: Total number of months in dataset\n",
    "import pandas as pd\n",
    "import csv\n",
    "import os\n",
    "\n",
    "csv_path = os.path.join (r'C:\\Users\\soone\\python-challenge\\PyBank\\Resources', 'budget_data.csv')\n",
    "\n",
    "with open(csv_path) as csvfile:\n",
    "    csvreader = csv.reader(csvfile, delimiter = \",\")\n",
    "\n",
    "df = pd.read_csv(csv_path)\n",
    "\n",
    "df['Date'] = pd.to_datetime(df['Date'], format='%b-%y')\n",
    "\n",
    "df['Month'] = df['Date'].dt.month\n",
    "\n",
    "num_months = df['Month'].nunique()\n",
    "\n",
    "print(\"Number of months in dataset:\", num_months)\n"
   ]
  },
  {
   "cell_type": "code",
   "execution_count": null,
   "id": "b3c1a6d5-0ccb-4dd9-9e63-ea19be82cafa",
   "metadata": {},
   "outputs": [],
   "source": []
  }
 ],
 "metadata": {
  "kernelspec": {
   "display_name": "Python 3 (ipykernel)",
   "language": "python",
   "name": "python3"
  },
  "language_info": {
   "codemirror_mode": {
    "name": "ipython",
    "version": 3
   },
   "file_extension": ".py",
   "mimetype": "text/x-python",
   "name": "python",
   "nbconvert_exporter": "python",
   "pygments_lexer": "ipython3",
   "version": "3.10.14"
  }
 },
 "nbformat": 4,
 "nbformat_minor": 5
}
