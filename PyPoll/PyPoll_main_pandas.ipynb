{
 "cells": [
  {
   "cell_type": "code",
   "execution_count": 1,
   "id": "4098fb4c-16bb-4679-8743-116c8d845462",
   "metadata": {},
   "outputs": [],
   "source": [
    "# For PyPoll section of challenge\n",
    "import pandas as pd\n",
    "\n",
    "# Files to load and output (update with correct file paths)\n",
    "election_data_df = pd.read_csv(r'C:\\Users\\soone\\python-challenge\\PyPoll\\Resources\\election_data.csv')"
   ]
  },
  {
   "cell_type": "code",
   "execution_count": 2,
   "id": "b6b9d255",
   "metadata": {},
   "outputs": [
    {
     "name": "stdout",
     "output_type": "stream",
     "text": [
      "Index(['Ballot ID', 'County', 'Candidate'], dtype='object')\n"
     ]
    }
   ],
   "source": [
    "print(election_data_df.columns)\n"
   ]
  },
  {
   "cell_type": "code",
   "execution_count": 3,
   "id": "95d82422-b292-4971-9df9-4733a808e60c",
   "metadata": {
    "scrolled": true
   },
   "outputs": [
    {
     "name": "stdout",
     "output_type": "stream",
     "text": [
      "Candidate\n",
      "Diana DeGette              272892\n",
      "Charles Casper Stockham     85213\n",
      "Raymon Anthony Doane        11606\n",
      "Name: count, dtype: int64\n"
     ]
    }
   ],
   "source": [
    "# The total # of votes each candidate won\n",
    "candidate_votes = election_data_df['Candidate'].value_counts()\n",
    "print (candidate_votes)"
   ]
  },
  {
   "cell_type": "code",
   "execution_count": 4,
   "id": "ae1728b4",
   "metadata": {},
   "outputs": [
    {
     "name": "stdout",
     "output_type": "stream",
     "text": [
      "Winner: Diana DeGette\n"
     ]
    }
   ],
   "source": [
    "import numpy as np\n",
    "\n",
    "candidates = np.array([\"Charles Casper Stockham\", \"Diana DeGette\", \"Raymon Anthony Doane\"])\n",
    "votes = np.array([85213, 272892, 11606])\n",
    "\n",
    "# Find the index of the candidate with the most votes\n",
    "winner_index = np.argmax(votes)\n",
    "\n",
    "# Display the winner\n",
    "print_winner =(f\"Winner: {candidates[winner_index]}\")\n",
    "print(print_winner)"
   ]
  },
  {
   "cell_type": "code",
   "execution_count": 5,
   "id": "aa500be2-373d-4afd-b402-8e94c2b76023",
   "metadata": {},
   "outputs": [
    {
     "data": {
      "text/plain": [
       "Candidate\n",
       "Charles Casper Stockham    0.230485\n",
       "Diana DeGette              0.738122\n",
       "Raymon Anthony Doane       0.031392\n",
       "Name: count, dtype: float64"
      ]
     },
     "execution_count": 5,
     "metadata": {},
     "output_type": "execute_result"
    }
   ],
   "source": [
    "total_votes = election_data_df['Ballot ID'].count()\n",
    "candidate_votes = election_data_df['Candidate'].value_counts().sort_index()\n",
    "\n",
    "#Percentage of votes per candidate\n",
    "decimal_value = candidate_votes / total_votes\n",
    "decimal_value"
   ]
  },
  {
   "cell_type": "code",
   "execution_count": 6,
   "id": "74ab10ec-59fe-4c7c-8ade-314c236fb38e",
   "metadata": {
    "scrolled": true
   },
   "outputs": [
    {
     "data": {
      "text/html": [
       "<div>\n",
       "<style scoped>\n",
       "    .dataframe tbody tr th:only-of-type {\n",
       "        vertical-align: middle;\n",
       "    }\n",
       "\n",
       "    .dataframe tbody tr th {\n",
       "        vertical-align: top;\n",
       "    }\n",
       "\n",
       "    .dataframe thead th {\n",
       "        text-align: right;\n",
       "    }\n",
       "</style>\n",
       "<table border=\"1\" class=\"dataframe\">\n",
       "  <thead>\n",
       "    <tr style=\"text-align: right;\">\n",
       "      <th></th>\n",
       "      <th>percentage</th>\n",
       "      <th>votes</th>\n",
       "    </tr>\n",
       "    <tr>\n",
       "      <th>Candidate</th>\n",
       "      <th></th>\n",
       "      <th></th>\n",
       "    </tr>\n",
       "  </thead>\n",
       "  <tbody>\n",
       "    <tr>\n",
       "      <th>Charles Casper Stockham</th>\n",
       "      <td>23.048543</td>\n",
       "      <td>85213</td>\n",
       "    </tr>\n",
       "    <tr>\n",
       "      <th>Diana DeGette</th>\n",
       "      <td>73.812248</td>\n",
       "      <td>272892</td>\n",
       "    </tr>\n",
       "    <tr>\n",
       "      <th>Raymon Anthony Doane</th>\n",
       "      <td>3.139209</td>\n",
       "      <td>11606</td>\n",
       "    </tr>\n",
       "  </tbody>\n",
       "</table>\n",
       "</div>"
      ],
      "text/plain": [
       "                         percentage   votes\n",
       "Candidate                                  \n",
       "Charles Casper Stockham   23.048543   85213\n",
       "Diana DeGette             73.812248  272892\n",
       "Raymon Anthony Doane       3.139209   11606"
      ]
     },
     "execution_count": 6,
     "metadata": {},
     "output_type": "execute_result"
    }
   ],
   "source": [
    "percentage_value = decimal_value * 100\n",
    "percentage_value = pd.DataFrame({\"percentage\":percentage_value, \"votes\":candidate_votes})\n",
    "percentage_value"
   ]
  },
  {
   "cell_type": "code",
   "execution_count": 7,
   "id": "441b4fcd",
   "metadata": {},
   "outputs": [
    {
     "name": "stdout",
     "output_type": "stream",
     "text": [
      "Charles Casper Stockham: 23.049% (85213)\n",
      "Diana DeGette: 73.812% (272892)\n",
      "Raymon Anthony Doane: 3.139% (11606)\n"
     ]
    }
   ],
   "source": [
    "for candidate, row in percentage_value.iterrows():\n",
    "    print(f\"{candidate}: {round(row['percentage'],3)}% ({int(row['votes'])})\")"
   ]
  },
  {
   "cell_type": "code",
   "execution_count": 8,
   "id": "2759893b-d407-41f3-bd7f-42d181c41bff",
   "metadata": {},
   "outputs": [
    {
     "name": "stdout",
     "output_type": "stream",
     "text": [
      "Election Results\n",
      "-----------------------------\n",
      "Total Votes: 369711\n",
      "-----------------------------\n",
      "Charles Casper Stockham: 23.049% (85213)\n",
      "Diana DeGette: 73.812% (272892)\n",
      "Raymon Anthony Doane: 3.139% (11606)\n",
      "-----------------------------\n",
      "Winner: Diana DeGette\n",
      "-----------------------------\n"
     ]
    }
   ],
   "source": [
    "print('Election Results')\n",
    "print('-----------------------------')\n",
    "print('Total Votes:', total_votes)\n",
    "print('-----------------------------')\n",
    "for candidate, row in percentage_value.iterrows():\n",
    "    print(f\"{candidate}: {round(row['percentage'],3)}% ({int(row['votes'])})\")\n",
    "print('-----------------------------')\n",
    "print(print_winner)\n",
    "print('-----------------------------')\n",
    "\n"
   ]
  },
  {
   "cell_type": "code",
   "execution_count": 9,
   "id": "bfa9c6cf",
   "metadata": {},
   "outputs": [],
   "source": [
    "# Prepare the results (results to txt file and terminal)\n",
    "with open(r'C:\\Users\\soone\\python-challenge\\PyPoll\\Analysis\\pypoll_analysis_results.txt','w') as file:\n",
    "    # Write PyPoll results\n",
    "    file.write(f\"PyPoll Analysis Results\\n\")\n",
    "    file.write(f\"Total Votes: {total_votes}\\n\")\n",
    "    file.write(f\"Each Candidate, Percentage of Votes, and Vote Count:\\n\")\n",
    "    for candidate, row in percentage_value.iterrows():\n",
    "        file.write(f\"{candidate}: {round(row['percentage'], 3)}% ({int(row['votes'])})\\n\")\n",
    "    file.write(f\"{print_winner}\\n\")"
   ]
  }
 ],
 "metadata": {
  "kernelspec": {
   "display_name": "Python 3 (ipykernel)",
   "language": "python",
   "name": "python3"
  },
  "language_info": {
   "codemirror_mode": {
    "name": "ipython",
    "version": 3
   },
   "file_extension": ".py",
   "mimetype": "text/x-python",
   "name": "python",
   "nbconvert_exporter": "python",
   "pygments_lexer": "ipython3",
   "version": "3.10.14"
  }
 },
 "nbformat": 4,
 "nbformat_minor": 5
}
