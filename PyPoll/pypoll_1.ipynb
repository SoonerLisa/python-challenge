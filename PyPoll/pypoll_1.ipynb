{
 "cells": [
  {
   "cell_type": "code",
   "execution_count": 12,
   "id": "4098fb4c-16bb-4679-8743-116c8d845462",
   "metadata": {},
   "outputs": [],
   "source": [
    "# For PyPoll section of challenge\n",
    "import pandas as pd\n",
    "\n",
    "#load election data\n",
    "pd.read_csv(r'C:\\Users\\soone\\python-challenge\\PyPoll\\Resources\\election_data.csv')\n",
    "election_data_df = pd.read_csv(r'C:\\Users\\soone\\python-challenge\\PyPoll\\Resources\\election_data.csv')"
   ]
  },
  {
   "cell_type": "code",
   "execution_count": 13,
   "id": "b156202d-f092-4d06-a165-8efc2af585c0",
   "metadata": {},
   "outputs": [
    {
     "data": {
      "text/plain": [
       "369711"
      ]
     },
     "execution_count": 13,
     "metadata": {},
     "output_type": "execute_result"
    }
   ],
   "source": [
    "#The total # of votes\n",
    "total_votes = election_data_df['Ballot ID'].count()\n",
    "total_votes"
   ]
  },
  {
   "cell_type": "code",
   "execution_count": 14,
   "id": "f07e93bf-b140-4f02-93a7-5188f7056d69",
   "metadata": {},
   "outputs": [
    {
     "name": "stdout",
     "output_type": "stream",
     "text": [
      "['Charles Casper Stockham' 'Diana DeGette' 'Raymon Anthony Doane']\n"
     ]
    }
   ],
   "source": [
    "#A complete list of candidates who received votes\n",
    "candidate = election_data_df['Candidate'].unique()\n",
    "print (candidate)"
   ]
  },
  {
   "cell_type": "code",
   "execution_count": 15,
   "id": "95d82422-b292-4971-9df9-4733a808e60c",
   "metadata": {
    "scrolled": true
   },
   "outputs": [
    {
     "name": "stdout",
     "output_type": "stream",
     "text": [
      "Candidate\n",
      "Diana DeGette              272892\n",
      "Charles Casper Stockham     85213\n",
      "Raymon Anthony Doane        11606\n",
      "Name: count, dtype: int64\n"
     ]
    }
   ],
   "source": [
    "# The total # of votes each candidate won\n",
    "candidate_votes = election_data_df['Candidate'].value_counts()\n",
    "print (candidate_votes)"
   ]
  },
  {
   "cell_type": "code",
   "execution_count": 16,
   "id": "ae1728b4",
   "metadata": {},
   "outputs": [
    {
     "name": "stdout",
     "output_type": "stream",
     "text": [
      "Winner: Diana DeGette\n"
     ]
    }
   ],
   "source": [
    "import numpy as np\n",
    "\n",
    "# Sample data for candidates and their votes\n",
    "candidates = np.array([\"Charles Casper Stockham\", \"Diana DeGette\", \"Raymon Anthony Doane\"])\n",
    "votes = np.array([85213, 272892, 11606])\n",
    "\n",
    "# Find the index of the candidate with the most votes\n",
    "winner_index = np.argmax(votes)\n",
    "\n",
    "# Display the winner\n",
    "print_winner =(f\"Winner: {candidates[winner_index]}\")\n",
    "print(print_winner)"
   ]
  },
  {
   "cell_type": "code",
   "execution_count": 17,
   "id": "aa500be2-373d-4afd-b402-8e94c2b76023",
   "metadata": {},
   "outputs": [
    {
     "data": {
      "text/plain": [
       "Candidate\n",
       "Charles Casper Stockham    0.230485\n",
       "Diana DeGette              0.738122\n",
       "Raymon Anthony Doane       0.031392\n",
       "Name: count, dtype: float64"
      ]
     },
     "execution_count": 17,
     "metadata": {},
     "output_type": "execute_result"
    }
   ],
   "source": [
    "total_votes = election_data_df['Ballot ID'].count()\n",
    "candidate_votes = election_data_df['Candidate'].value_counts().sort_index()\n",
    "\n",
    "#Percentage of votes per candidate\n",
    "decimal_value = candidate_votes / total_votes\n",
    "decimal_value"
   ]
  },
  {
   "cell_type": "code",
   "execution_count": 18,
   "id": "74ab10ec-59fe-4c7c-8ade-314c236fb38e",
   "metadata": {
    "scrolled": true
   },
   "outputs": [
    {
     "data": {
      "text/html": [
       "<div>\n",
       "<style scoped>\n",
       "    .dataframe tbody tr th:only-of-type {\n",
       "        vertical-align: middle;\n",
       "    }\n",
       "\n",
       "    .dataframe tbody tr th {\n",
       "        vertical-align: top;\n",
       "    }\n",
       "\n",
       "    .dataframe thead th {\n",
       "        text-align: right;\n",
       "    }\n",
       "</style>\n",
       "<table border=\"1\" class=\"dataframe\">\n",
       "  <thead>\n",
       "    <tr style=\"text-align: right;\">\n",
       "      <th></th>\n",
       "      <th>percentage</th>\n",
       "      <th>votes</th>\n",
       "    </tr>\n",
       "    <tr>\n",
       "      <th>Candidate</th>\n",
       "      <th></th>\n",
       "      <th></th>\n",
       "    </tr>\n",
       "  </thead>\n",
       "  <tbody>\n",
       "    <tr>\n",
       "      <th>Charles Casper Stockham</th>\n",
       "      <td>23.048543</td>\n",
       "      <td>85213</td>\n",
       "    </tr>\n",
       "    <tr>\n",
       "      <th>Diana DeGette</th>\n",
       "      <td>73.812248</td>\n",
       "      <td>272892</td>\n",
       "    </tr>\n",
       "    <tr>\n",
       "      <th>Raymon Anthony Doane</th>\n",
       "      <td>3.139209</td>\n",
       "      <td>11606</td>\n",
       "    </tr>\n",
       "  </tbody>\n",
       "</table>\n",
       "</div>"
      ],
      "text/plain": [
       "                         percentage   votes\n",
       "Candidate                                  \n",
       "Charles Casper Stockham   23.048543   85213\n",
       "Diana DeGette             73.812248  272892\n",
       "Raymon Anthony Doane       3.139209   11606"
      ]
     },
     "execution_count": 18,
     "metadata": {},
     "output_type": "execute_result"
    }
   ],
   "source": [
    "percentage_value = decimal_value * 100\n",
    "percentage_value = pd.DataFrame({\"percentage\":percentage_value, \"votes\":candidate_votes})\n",
    "percentage_value"
   ]
  },
  {
   "cell_type": "code",
   "execution_count": 19,
   "id": "441b4fcd",
   "metadata": {},
   "outputs": [
    {
     "name": "stdout",
     "output_type": "stream",
     "text": [
      "Charles Casper Stockham: 23.049% (85213)\n",
      "Diana DeGette: 73.812% (272892)\n",
      "Raymon Anthony Doane: 3.139% (11606)\n"
     ]
    }
   ],
   "source": [
    "for candidate, row in percentage_value.iterrows():\n",
    "    print(f\"{candidate}: {round(row['percentage'],3)}% ({int(row['votes'])})\")"
   ]
  },
  {
   "cell_type": "code",
   "execution_count": 20,
   "id": "2759893b-d407-41f3-bd7f-42d181c41bff",
   "metadata": {},
   "outputs": [
    {
     "name": "stdout",
     "output_type": "stream",
     "text": [
      "Election Results\n",
      "-----------------------------\n",
      "Total Votes: 369711\n",
      "-----------------------------\n",
      "Charles Casper Stockham: 23.049% (85213)\n",
      "Diana DeGette: 73.812% (272892)\n",
      "Raymon Anthony Doane: 3.139% (11606)\n",
      "-----------------------------\n",
      "Winner: Diana DeGette\n",
      "-----------------------------\n"
     ]
    }
   ],
   "source": [
    "print('Election Results')\n",
    "print('-----------------------------')\n",
    "print('Total Votes:', total_votes)\n",
    "print('-----------------------------')\n",
    "for candidate, row in percentage_value.iterrows():\n",
    "    print(f\"{candidate}: {round(row['percentage'],3)}% ({int(row['votes'])})\")\n",
    "print('-----------------------------')\n",
    "print(print_winner)\n",
    "print('-----------------------------')\n",
    "\n"
   ]
  },
  {
   "cell_type": "code",
   "execution_count": null,
   "id": "7a71f68e",
   "metadata": {},
   "outputs": [],
   "source": [
    "#This is a template that hopefully when edited will be correct.\n",
    "\n",
    "#export pypoll_1 as a text file and print to terminal\n",
    "# Prepare the results (results to txt file and terminal)\n",
    "#results = f\"\"\"The PyBank results are:\n",
    "#PyBank Results\n",
    "#Total Months: {total_months}\n",
    "#Total: ${net_total}\n",
    "#Average Change: ${rounded_average_change}\n",
    "#Greatest Increase: {greatest_increase_row['Date']} ${greatest_increase_row['change']}\")\n",
    "#Greatest Decrease: {greatest_decrease_row['Date']} ${greatest_decrease_row['change']}\")\n",
    "#above for PyBank only --------------------------------------\n",
    "#------------------------------------------------------------\n",
    "\n",
    "# Prepare the results\n",
    "#with open('pypoll_analysis_results.txt', 'w') as file:\n",
    "#Pypoll Results\n",
    "#???Total Votes: {net_total}\n",
    "#\"\"\"\n",
    "\n",
    "#for candidate, data in candidate.items():\n",
    " #   results += f\"{candidate}: {data['votes']} votes ({data['percent']}%)\\n\"\n",
    "#results += f\"Winner: {winner}\\n\"\n",
    "\n",
    "# Print to the terminal\n",
    "#print(results)\n",
    "\n",
    "# Export to a text file\n",
    "#with open('results.txt', 'w') as file:\n",
    "#    file.write(results)\n"
   ]
  }
 ],
 "metadata": {
  "kernelspec": {
   "display_name": "Python 3 (ipykernel)",
   "language": "python",
   "name": "python3"
  },
  "language_info": {
   "codemirror_mode": {
    "name": "ipython",
    "version": 3
   },
   "file_extension": ".py",
   "mimetype": "text/x-python",
   "name": "python",
   "nbconvert_exporter": "python",
   "pygments_lexer": "ipython3",
   "version": "3.10.14"
  }
 },
 "nbformat": 4,
 "nbformat_minor": 5
}
