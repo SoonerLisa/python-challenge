{
 "cells": [
  {
   "cell_type": "code",
   "execution_count": 124,
   "id": "4098fb4c-16bb-4679-8743-116c8d845462",
   "metadata": {},
   "outputs": [],
   "source": [
    "# For PyPoll section of challenge\n",
    "import pandas as pd\n",
    "\n",
    "#load election data\n",
    "pd.read_csv(r'C:\\Users\\soone\\python-challenge\\PyPoll\\Resources\\election_data.csv')\n",
    "election_data_df = pd.read_csv(r'C:\\Users\\soone\\python-challenge\\PyPoll\\Resources\\election_data.csv')"
   ]
  },
  {
   "cell_type": "code",
   "execution_count": 125,
   "id": "b156202d-f092-4d06-a165-8efc2af585c0",
   "metadata": {},
   "outputs": [
    {
     "data": {
      "text/plain": [
       "369711"
      ]
     },
     "execution_count": 125,
     "metadata": {},
     "output_type": "execute_result"
    }
   ],
   "source": [
    "#The total # of votes\n",
    "total_votes = election_data_df['Ballot ID'].count()\n",
    "total_votes"
   ]
  },
  {
   "cell_type": "code",
   "execution_count": 126,
   "id": "f07e93bf-b140-4f02-93a7-5188f7056d69",
   "metadata": {},
   "outputs": [
    {
     "name": "stdout",
     "output_type": "stream",
     "text": [
      "['Charles Casper Stockham' 'Diana DeGette' 'Raymon Anthony Doane']\n"
     ]
    }
   ],
   "source": [
    "#A complete list of candidates who received votes\n",
    "candidate = election_data_df['Candidate'].unique()\n",
    "print (candidate)"
   ]
  },
  {
   "cell_type": "code",
   "execution_count": 127,
   "id": "95d82422-b292-4971-9df9-4733a808e60c",
   "metadata": {
    "scrolled": true
   },
   "outputs": [
    {
     "name": "stdout",
     "output_type": "stream",
     "text": [
      "Candidate\n",
      "Diana DeGette              272892\n",
      "Charles Casper Stockham     85213\n",
      "Raymon Anthony Doane        11606\n",
      "Name: count, dtype: int64\n"
     ]
    }
   ],
   "source": [
    "# The total # of votes each candidate won\n",
    "candidate_votes = election_data_df['Candidate'].value_counts()\n",
    "print (candidate_votes)"
   ]
  },
  {
   "cell_type": "code",
   "execution_count": 128,
   "id": "aa500be2-373d-4afd-b402-8e94c2b76023",
   "metadata": {},
   "outputs": [
    {
     "data": {
      "text/plain": [
       "Candidate\n",
       "Diana DeGette              0.738122\n",
       "Charles Casper Stockham    0.230485\n",
       "Raymon Anthony Doane       0.031392\n",
       "Name: count, dtype: float64"
      ]
     },
     "execution_count": 128,
     "metadata": {},
     "output_type": "execute_result"
    }
   ],
   "source": [
    "total_votes = election_data_df['Ballot ID'].count()\n",
    "candidate_votes = election_data_df['Candidate'].value_counts()\n",
    "\n",
    "#Percentage of votes per candidate\n",
    "decimal_value = candidate_votes / total_votes\n",
    "decimal_value"
   ]
  },
  {
   "cell_type": "code",
   "execution_count": 129,
   "id": "74ab10ec-59fe-4c7c-8ade-314c236fb38e",
   "metadata": {
    "scrolled": true
   },
   "outputs": [
    {
     "name": "stdout",
     "output_type": "stream",
     "text": [
      "Candidate\n",
      "Diana DeGette              73.812248\n",
      "Charles Casper Stockham    23.048543\n",
      "Raymon Anthony Doane        3.139209\n",
      "Name: count, dtype: float64\n"
     ]
    }
   ],
   "source": [
    "percentage_value = decimal_value * 100\n",
    "print(percentage_value)"
   ]
  },
  {
   "cell_type": "code",
   "execution_count": 130,
   "id": "cec059de-8f27-4ca5-983c-ff5ea17136d5",
   "metadata": {},
   "outputs": [
    {
     "name": "stdout",
     "output_type": "stream",
     "text": [
      "0    73.812%\n",
      "1    23.049%\n",
      "2     3.139%\n",
      "dtype: object\n"
     ]
    }
   ],
   "source": [
    "percentages = pd.Series([0.73812248, 0.23048543, 0.03139209])\n",
    "formatted_percentages = percentages.map(lambda x: f\"{x * 100:.3f}%\")\n",
    "print(formatted_percentages)\n"
   ]
  },
  {
   "cell_type": "code",
   "execution_count": 142,
   "id": "5524f168-deac-47e8-bf91-0715a40922b9",
   "metadata": {},
   "outputs": [
    {
     "name": "stdout",
     "output_type": "stream",
     "text": [
      "Election Results\n",
      "-----------------------------\n",
      "Total Votes: 369711\n",
      "-----------------------------\n"
     ]
    }
   ],
   "source": [
    "print('Election Results')\n",
    "print('-----------------------------')\n",
    "print('Total Votes:', total_votes)\n",
    "print('-----------------------------')"
   ]
  },
  {
   "cell_type": "code",
   "execution_count": 151,
   "id": "8bb80ea3-7138-433f-8d27-46353c2ccdbe",
   "metadata": {},
   "outputs": [
    {
     "name": "stdout",
     "output_type": "stream",
     "text": [
      "(array(['Charles Casper Stockham', 'Diana DeGette', 'Raymon Anthony Doane'],\n",
      "      dtype=object), 0    73.812%\n",
      "1    23.049%\n",
      "2     3.139%\n",
      "dtype: object, Candidate\n",
      "Diana DeGette              272892\n",
      "Charles Casper Stockham     85213\n",
      "Raymon Anthony Doane        11606\n",
      "Name: count, dtype: int64)\n"
     ]
    }
   ],
   "source": [
    "print((candidate,formatted_percentages,candidate_votes))"
   ]
  },
  {
   "cell_type": "code",
   "execution_count": 155,
   "id": "db73bf0c-58aa-4495-aaca-b8caa49a240b",
   "metadata": {},
   "outputs": [
    {
     "name": "stderr",
     "output_type": "stream",
     "text": [
      "<>:1: SyntaxWarning: 'str' object is not callable; perhaps you missed a comma?\n",
      "<>:1: SyntaxWarning: 'str' object is not callable; perhaps you missed a comma?\n",
      "C:\\Users\\soone\\AppData\\Local\\Temp\\ipykernel_28348\\712075232.py:1: SyntaxWarning: 'str' object is not callable; perhaps you missed a comma?\n",
      "  print(\"{:.3f}%\"(decimal_value))\n",
      "C:\\Users\\soone\\AppData\\Local\\Temp\\ipykernel_28348\\712075232.py:1: SyntaxWarning: 'str' object is not callable; perhaps you missed a comma?\n",
      "  print(\"{:.3f}%\"(decimal_value))\n",
      "C:\\Users\\soone\\AppData\\Local\\Temp\\ipykernel_28348\\712075232.py:1: SyntaxWarning: 'str' object is not callable; perhaps you missed a comma?\n",
      "  print(\"{:.3f}%\"(decimal_value))\n",
      "C:\\Users\\soone\\AppData\\Local\\Temp\\ipykernel_28348\\712075232.py:1: SyntaxWarning: 'str' object is not callable; perhaps you missed a comma?\n",
      "  print(\"{:.3f}%\"(decimal_value))\n"
     ]
    },
    {
     "ename": "TypeError",
     "evalue": "'str' object is not callable",
     "output_type": "error",
     "traceback": [
      "\u001b[1;31m---------------------------------------------------------------------------\u001b[0m",
      "\u001b[1;31mTypeError\u001b[0m                                 Traceback (most recent call last)",
      "Cell \u001b[1;32mIn[155], line 1\u001b[0m\n\u001b[1;32m----> 1\u001b[0m \u001b[38;5;28mprint\u001b[39m(\u001b[38;5;124;43m\"\u001b[39;49m\u001b[38;5;132;43;01m{:.3f}\u001b[39;49;00m\u001b[38;5;124;43m%\u001b[39;49m\u001b[38;5;124;43m\"\u001b[39;49m\u001b[43m(\u001b[49m\u001b[43mdecimal_value\u001b[49m\u001b[43m)\u001b[49m)\n",
      "\u001b[1;31mTypeError\u001b[0m: 'str' object is not callable"
     ]
    }
   ],
   "source": [
    "\n",
    "print(\"{:.3f}%\"(decimal_value))\n"
   ]
  },
  {
   "cell_type": "code",
   "execution_count": null,
   "id": "2759893b-d407-41f3-bd7f-42d181c41bff",
   "metadata": {},
   "outputs": [],
   "source": []
  }
 ],
 "metadata": {
  "kernelspec": {
   "display_name": "Python 3 (ipykernel)",
   "language": "python",
   "name": "python3"
  },
  "language_info": {
   "codemirror_mode": {
    "name": "ipython",
    "version": 3
   },
   "file_extension": ".py",
   "mimetype": "text/x-python",
   "name": "python",
   "nbconvert_exporter": "python",
   "pygments_lexer": "ipython3",
   "version": "3.10.14"
  }
 },
 "nbformat": 4,
 "nbformat_minor": 5
}
