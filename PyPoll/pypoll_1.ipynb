{
 "cells": [
  {
   "cell_type": "code",
   "execution_count": 29,
   "id": "4098fb4c-16bb-4679-8743-116c8d845462",
   "metadata": {},
   "outputs": [],
   "source": [
    "# For PyPoll section of challenge\n",
    "import pandas as pd\n",
    "\n",
    "#load election data\n",
    "pd.read_csv(r'C:\\Users\\soone\\python-challenge\\PyPoll\\Resources\\election_data.csv')\n",
    "election_data_df = pd.read_csv(r'C:\\Users\\soone\\python-challenge\\PyPoll\\Resources\\election_data.csv')"
   ]
  },
  {
   "cell_type": "code",
   "execution_count": 30,
   "id": "b156202d-f092-4d06-a165-8efc2af585c0",
   "metadata": {},
   "outputs": [
    {
     "data": {
      "text/plain": [
       "369711"
      ]
     },
     "execution_count": 30,
     "metadata": {},
     "output_type": "execute_result"
    }
   ],
   "source": [
    "#The total # of votes\n",
    "total_votes = election_data_df['Ballot ID'].count()\n",
    "total_votes"
   ]
  },
  {
   "cell_type": "code",
   "execution_count": 31,
   "id": "f07e93bf-b140-4f02-93a7-5188f7056d69",
   "metadata": {},
   "outputs": [
    {
     "name": "stdout",
     "output_type": "stream",
     "text": [
      "['Charles Casper Stockham' 'Diana DeGette' 'Raymon Anthony Doane']\n"
     ]
    }
   ],
   "source": [
    "#A complete list of candidates who received votes\n",
    "candidate = election_data_df['Candidate'].unique()\n",
    "print (candidate)"
   ]
  },
  {
   "cell_type": "code",
   "execution_count": 32,
   "id": "95d82422-b292-4971-9df9-4733a808e60c",
   "metadata": {
    "scrolled": true
   },
   "outputs": [
    {
     "name": "stdout",
     "output_type": "stream",
     "text": [
      "Candidate\n",
      "Diana DeGette              272892\n",
      "Charles Casper Stockham     85213\n",
      "Raymon Anthony Doane        11606\n",
      "Name: count, dtype: int64\n"
     ]
    }
   ],
   "source": [
    "# The total # of votes each candidate won\n",
    "candidate_votes = election_data_df['Candidate'].value_counts()\n",
    "print (candidate_votes)"
   ]
  },
  {
   "cell_type": "code",
   "execution_count": 33,
   "id": "aa500be2-373d-4afd-b402-8e94c2b76023",
   "metadata": {},
   "outputs": [
    {
     "data": {
      "text/plain": [
       "Candidate\n",
       "Diana DeGette              0.738122\n",
       "Charles Casper Stockham    0.230485\n",
       "Raymon Anthony Doane       0.031392\n",
       "Name: count, dtype: float64"
      ]
     },
     "execution_count": 33,
     "metadata": {},
     "output_type": "execute_result"
    }
   ],
   "source": [
    "total_votes = election_data_df['Ballot ID'].count()\n",
    "candidate_votes = election_data_df['Candidate'].value_counts()\n",
    "\n",
    "#Percentage of votes per candidate\n",
    "decimal_value = candidate_votes / total_votes\n",
    "decimal_value"
   ]
  },
  {
   "cell_type": "code",
   "execution_count": 34,
   "id": "74ab10ec-59fe-4c7c-8ade-314c236fb38e",
   "metadata": {
    "scrolled": true
   },
   "outputs": [
    {
     "name": "stdout",
     "output_type": "stream",
     "text": [
      "Candidate\n",
      "Diana DeGette              73.812248\n",
      "Charles Casper Stockham    23.048543\n",
      "Raymon Anthony Doane        3.139209\n",
      "Name: count, dtype: float64\n"
     ]
    }
   ],
   "source": [
    "percentage_value = decimal_value * 100\n",
    "print(percentage_value)"
   ]
  },
  {
   "cell_type": "code",
   "execution_count": 35,
   "id": "cec059de-8f27-4ca5-983c-ff5ea17136d5",
   "metadata": {},
   "outputs": [
    {
     "name": "stdout",
     "output_type": "stream",
     "text": [
      "73.812%\n",
      "23.049%\n",
      " 3.139%\n"
     ]
    }
   ],
   "source": [
    "percentages = pd.Series([0.73812248, 0.23048543, 0.03139209])\n",
    "formatted_percentages = percentages.map(lambda x: f\"{x * 100:.3f}%\")\n",
    "print_percentage = print(formatted_percentages.to_string(index=False))\n",
    "print_percentage"
   ]
  },
  {
   "cell_type": "code",
   "execution_count": 60,
   "id": "441b4fcd",
   "metadata": {},
   "outputs": [
    {
     "name": "stdout",
     "output_type": "stream",
     "text": [
      "Charles Casper Stockham: 73.812% (272892)\n",
      "Diana DeGette: 23.049% (85213)\n",
      "Raymon Anthony Doane: 3.139% (11606)\n"
     ]
    },
    {
     "name": "stderr",
     "output_type": "stream",
     "text": [
      "C:\\Users\\soone\\AppData\\Local\\Temp\\ipykernel_23896\\241698933.py:2: FutureWarning: Series.__getitem__ treating keys as positions is deprecated. In a future version, integer keys will always be treated as labels (consistent with DataFrame behavior). To access a value by position, use `ser.iloc[pos]`\n",
      "  candidate_info = [(candidate[i], formatted_percentages[i], candidate_votes[i]) for i in range(len(candidate))]\n"
     ]
    }
   ],
   "source": [
    "# Create a list of tuples\n",
    "candidate_info = [(candidate[i], formatted_percentages[i], candidate_votes[i]) for i in range(len(candidate))]\n",
    "\n",
    "# Print the results\n",
    "for info in candidate_info:\n",
    "    print(f\"{info[0]}: {info[1]} ({info[2]})\")\n"
   ]
  },
  {
   "cell_type": "code",
   "execution_count": 63,
   "id": "2759893b-d407-41f3-bd7f-42d181c41bff",
   "metadata": {},
   "outputs": [
    {
     "name": "stdout",
     "output_type": "stream",
     "text": [
      "Election Results\n",
      "-----------------------------\n",
      "Total Votes: 369711\n",
      "-----------------------------\n",
      "Charles Casper Stockham: 73.812% (272892)\n",
      "Diana DeGette: 23.049% (85213)\n",
      "Raymon Anthony Doane: 3.139% (11606)\n"
     ]
    }
   ],
   "source": [
    "print('Election Results')\n",
    "print('-----------------------------')\n",
    "print('Total Votes:', total_votes)\n",
    "print('-----------------------------')\n",
    "for info in candidate_info:\n",
    "    print(f\"{info[0]}: {info[1]} ({info[2]})\")"
   ]
  }
 ],
 "metadata": {
  "kernelspec": {
   "display_name": "Python 3 (ipykernel)",
   "language": "python",
   "name": "python3"
  },
  "language_info": {
   "codemirror_mode": {
    "name": "ipython",
    "version": 3
   },
   "file_extension": ".py",
   "mimetype": "text/x-python",
   "name": "python",
   "nbconvert_exporter": "python",
   "pygments_lexer": "ipython3",
   "version": "3.10.14"
  }
 },
 "nbformat": 4,
 "nbformat_minor": 5
}
